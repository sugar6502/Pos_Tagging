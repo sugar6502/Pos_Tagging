{
  "cells": [
    {
      "cell_type": "code",
      "execution_count": null,
      "metadata": {
        "colab": {
          "base_uri": "https://localhost:8080/"
        },
        "id": "AQ0NqbGOMd11",
        "outputId": "d60332d5-331d-43a3-ce1e-fe2a2b836fe1"
      },
      "outputs": [
        {
          "output_type": "stream",
          "name": "stdout",
          "text": [
            "Drive already mounted at /content/gdrive; to attempt to forcibly remount, call drive.mount(\"/content/gdrive\", force_remount=True).\n"
          ]
        }
      ],
      "source": [
        "from google.colab import drive\n",
        "drive.mount('/content/gdrive')"
      ]
    },
    {
      "cell_type": "code",
      "execution_count": null,
      "metadata": {
        "id": "UXroW9LEDnyX"
      },
      "outputs": [],
      "source": [
        "import string\n",
        "import matplotlib.pyplot as plt\n",
        "import numpy as np\n",
        "import re \n",
        "import pandas as pd\n",
        "import math\n"
      ]
    },
    {
      "cell_type": "code",
      "execution_count": null,
      "metadata": {
        "id": "8B-aESAPqTGc"
      },
      "outputs": [],
      "source": [
        "import warnings\n",
        "warnings.filterwarnings('ignore')"
      ]
    },
    {
      "cell_type": "code",
      "execution_count": null,
      "metadata": {
        "colab": {
          "base_uri": "https://localhost:8080/"
        },
        "id": "9Hp9cPVnrLlN",
        "outputId": "57705050-c869-4c99-f746-a4c348d25aa5"
      },
      "outputs": [
        {
          "output_type": "stream",
          "name": "stdout",
          "text": [
            "Looking in indexes: https://pypi.org/simple, https://us-python.pkg.dev/colab-wheels/public/simple/\n",
            "Collecting VnCoreNLP\n",
            "  Downloading vncorenlp-1.0.3.tar.gz (2.6 MB)\n",
            "\u001b[2K     \u001b[90m━━━━━━━━━━━━━━━━━━━━━━━━━━━━━━━━━━━━━━━━\u001b[0m \u001b[32m2.6/2.6 MB\u001b[0m \u001b[31m23.4 MB/s\u001b[0m eta \u001b[36m0:00:00\u001b[0m\n",
            "\u001b[?25h  Preparing metadata (setup.py) ... \u001b[?25l\u001b[?25hdone\n",
            "Requirement already satisfied: requests in /usr/local/lib/python3.8/dist-packages (from VnCoreNLP) (2.25.1)\n",
            "Requirement already satisfied: certifi>=2017.4.17 in /usr/local/lib/python3.8/dist-packages (from requests->VnCoreNLP) (2022.12.7)\n",
            "Requirement already satisfied: chardet<5,>=3.0.2 in /usr/local/lib/python3.8/dist-packages (from requests->VnCoreNLP) (4.0.0)\n",
            "Requirement already satisfied: urllib3<1.27,>=1.21.1 in /usr/local/lib/python3.8/dist-packages (from requests->VnCoreNLP) (1.24.3)\n",
            "Requirement already satisfied: idna<3,>=2.5 in /usr/local/lib/python3.8/dist-packages (from requests->VnCoreNLP) (2.10)\n",
            "Building wheels for collected packages: VnCoreNLP\n",
            "  Building wheel for VnCoreNLP (setup.py) ... \u001b[?25l\u001b[?25hdone\n",
            "  Created wheel for VnCoreNLP: filename=vncorenlp-1.0.3-py3-none-any.whl size=2645950 sha256=e696c952dada56affd272d2fd53d9ac701a86e8209bf1bdf4ee80d66ca2dff4b\n",
            "  Stored in directory: /root/.cache/pip/wheels/3c/e9/86/706911c12e307aeb9a2702399f0dad38d36f1d6f9dde8af35e\n",
            "Successfully built VnCoreNLP\n",
            "Installing collected packages: VnCoreNLP\n",
            "Successfully installed VnCoreNLP-1.0.3\n"
          ]
        }
      ],
      "source": [
        "!pip install VnCoreNLP"
      ]
    },
    {
      "cell_type": "code",
      "execution_count": null,
      "metadata": {
        "id": "1Q6wQvr4r-kl"
      },
      "outputs": [],
      "source": [
        "from vncorenlp import VnCoreNLP\n",
        "vncorenlp_file = r'/content/gdrive/MyDrive/CS221/VnCoreNLP-1.1.1.jar'\n",
        "vncorenlp = VnCoreNLP(vncorenlp_file)"
      ]
    },
    {
      "cell_type": "markdown",
      "metadata": {
        "id": "o2_H3xH3Mh_H"
      },
      "source": [
        "## **Load bộ dữ liệu để phân tích**\n",
        "\n",
        "\n",
        "\n",
        "\n",
        "\n"
      ]
    },
    {
      "cell_type": "code",
      "execution_count": null,
      "metadata": {
        "colab": {
          "base_uri": "https://localhost:8080/"
        },
        "id": "R7NdNL6UMyFs",
        "outputId": "6720dda0-f6ab-49ab-deba-c5e7c0b46ba2"
      },
      "outputs": [
        {
          "output_type": "execute_result",
          "data": {
            "text/plain": [
              "['Từ những vết sẹo của bạo lực gia đình, đã có lúc, tôi đau đớn, tôi gục ngã. \\n',\n",
              " 'Nhưng điều quan trọng nhất là tôi tìm thấy sức mạnh nội tại và tôi chiến đấu vì nó. \\n',\n",
              " 'Ai trong chúng ta cũng có những cuộc chiến cá nhân nhưng điều quan trọng nhất là tin vào giá trị của bản thân.\\n',\n",
              " 'Đội vương miện chính mình, viết tiếp cuộc đời bằng trang hành trình nhiệt huyết, bản lĩnh cá nhân. \\n',\n",
              " 'Mỗi chúng ta là một chiến binh và hãy chiến đấu vì giấc mơ của mình.\\n',\n",
              " 'Sân nhà mình hồi ấy có rộng mấy đâu, chỉ có khoảng trời là lồng lộng phía trên đầu, nhưng đã đi hết cả tuổi thần tiên rồi, sao tôi vẫn còn nhớ tiếc.\\n',\n",
              " 'Tháng năm vừa rồi bánh cam đã lọt vào top 30 món rán ngon nhất thế giới do hãng tin danh tiếng CNN bình chọn.\\n',\n",
              " 'Hồi đó má hay cho tiền dằn túi thì mình lại dằn vặt, vì mình không biết nên chọn giữa ổ bánh mì đầy thịt hay là một ly trà sữa thơm ngon đầy thạch.\\n',\n",
              " 'Người ta ngây ngất trước sự hào nhoáng, mê mẩn trước sự bóng bẩy nhưng chỉ rơi nước mắt trước sự giản dị tự đáy lòng.\\n',\n",
              " 'Vô cảm, thờ ơ hay ích kỷ là cảm xúc, mà cảm xúc thì tồn tại trong tất cả, không riêng gì giới trẻ. \\n',\n",
              " 'Điều quan trọng là thay vì chỉ trích giới trẻ, hãy đặt câu hỏi tại sao họ lại như vậy? \\n',\n",
              " 'Hãy giáo dục, cho họ thấy rằng gia đình là nơi nung nấu và nguồn cội giúp họ ngày càng được dâng trào hơn.\\n',\n",
              " 'Hiện nay có rất nhiều sinh viên ra trường nhưng không xin được việc làm, trong khi đó nhiều doanh nghiệp khó tuyển nhân sự.\\n',\n",
              " 'Vấn đề này nằm ở việc chúng ta làm thế nào trong tương lai, nhiều hơn là đổ lỗi cho bất kỳ cá nhân, tổ chức nào. *\\n',\n",
              " 'Kết thúc lượt của bạn và buộc người chơi kế tiếp phải bốc thêm 2 lượt nữa.\\n',\n",
              " 'Đánh lá này xuống để cướp một lá ngẫu nhiên của người chơi khác.\\n',\n",
              " 'Tôi chọn cách trò chuyện với thế giới chung quanh bằng những trang viết, bỗng thấy thật dễ chịu khi suy nghĩ, niềm vui, nỗi buồn của mình được mọi người chia sẻ.\\n',\n",
              " 'Tại UIT, em có cơ hội để hòa nhập vào một môi trường năng động, sáng tạo và chuyên nghiệp, được học tập từ các thầy cô giàu kinh nghiệm và tận tâm.\\n',\n",
              " 'Môn học nhằm cung cấp cho sinh viên một số kiến thức nhập môn của chuyên ngành xử lý ngôn ngữ tự nhiên, bao gồm những nội dung chính về: văn phạm phi ngữ cảnh, văn phạm DCG, cài đặt và giải thích cơ chế xử lý văn phạm DCG trên Prolog, FSA.\\n',\n",
              " 'Học sinh học sinh học.\\n',\n",
              " 'Cuối cùng, tôi không thể thốt lên lời.\\n',\n",
              " 'Em sai rồi, anh xin lỗi em đi.\\n',\n",
              " 'Con rắn bò cạnh một con bò có thân hình rắn chắc.\\n',\n",
              " 'Sau giờ học, tôi lao ra biển và phải thử thách mình trên mấy chục con sóng mà chưa một lần thành công.\\n',\n",
              " 'Càng làm những công việc như lập trình phần mềm thế này, anh càng khâm phục và say mê máy tính.\\n',\n",
              " 'Sao mình lại trở nên thô bạo thế này? Anh thầm nghĩ.\\n',\n",
              " 'Tôi gật gù, xong chưa hiểu lắm điều chị nói.\\n',\n",
              " 'Ngước nhìn bạt ngàn hoa tuyết rơi xuống từ trời đêm, anh thầm nghĩ, cuối cùng, mùa anh đào đã đến.\\n',\n",
              " 'Cái lo lắng phân vân của em kéo dài ra cho đến tối hôm sau.\\n',\n",
              " 'Sự đời đến như thế nữa thì thật là một hình phạt!\\n',\n",
              " 'Bẩm chú, thế ra thuốc ta không chữa được khỏi?\\n',\n",
              " 'Nếu em bướng bỉnh cãi lại vài lời nữa, thời sự tàn tệ của chồng em còn ghê gớm tới đâu?\\n',\n",
              " 'Một câu chuyện hấp dẫn không chỉ là một câu chuyện cuốn bạn chạy một mạch, mà có khi lại khiến bạn khó lòng đọc nhanh được.\\n',\n",
              " 'Anh yêu rất yêu em yêu nhiều lắm.\\n',\n",
              " 'Còn gì phê bằng việc nhâm nhi một cốc cà phê nóng dưới mưa.\\n',\n",
              " 'Lính Lệ leo lên lầu lấy lưỡi lê lấy lộn lại leo lên lấy lại.\\n',\n",
              " 'Lúa nếp là lúa nếp làng, lúa lên lớp lớp làm lợn no nê.\\n',\n",
              " 'Tư bản không thể xuất hiện từ lưu động và cũng không thể xuất hiện từ bên ngoài lưu thông. \\n',\n",
              " 'Nồi đồng nấu ốc, nồi đất nấu ếch.\\n',\n",
              " 'Các cầu thủ của đội bóng bước qua cầu và cầu mong một trận thắng đậm.\\n',\n",
              " 'Con cá rô rục rịch trong rổ réo róc rách.\\n',\n",
              " 'Quả thơm đó thơm thật.\\n',\n",
              " 'Dân giàu, nước mạnh, dân chủ, công bằng, văn minh.\\n',\n",
              " 'Dân chủ là một phương pháp ra quyết định tập thể trong đó mọi thành viên đều có quyền ngang nhau khi tham gia ra quyết định.\\n',\n",
              " 'Em làm gì có người yêu, em đang sợ ế đây này.\\n',\n",
              " 'Triết học là bộ môn nghiên cứu về những vấn đề chung và cơ bản của con người, thế giới quan và vị trí của con người trong thế giới quan, những vấn đề có kết nối với chân lý, sự tồn tại, kiến thức, giá trị, quy luật, ý thức, và ngôn ngữ.\\n',\n",
              " 'Yêu đương gì tầm này, nhà bao việc.\\n',\n",
              " 'Tiền thì em không thiếu nhưng nhiều thì em không có.\\n',\n",
              " 'Cho em order 1 ly matcha đá xay nhầm ánh mắt anh.\\n',\n",
              " 'Thì ra lãng mạn không phải là mùa hè, lãng mạn là mùa hè bên em.\\n',\n",
              " 'Muốn ngồi ở vị trí không ai ngồi được, bạn phải chịu được những cảm giác không ai chịu được.\\n',\n",
              " 'Vì mình quá thích cậu rồi, phải làm sao phải làm sao.\\n',\n",
              " 'Đồng tiền không tự nhiên sinh ra, cũng không tự nhiên mất đi mà chỉ chạy từ túi người này sang túi người khác.\\n',\n",
              " 'Thế giới quan duy vật nhận định rằng vật chất là thứ tồn tại trước ý thức, vật chất quyết định ý thức nhưng không thể tiêu diệt được ý thức mà sự tồn tại của vật chất là độc lập so với ý thức.\\n',\n",
              " 'Kẻ nào chưa từng mắc phải lỗi lầm cũng là kẻ chưa bao giờ thử làm việc gì cả.\\n',\n",
              " 'Độc lập là quyền bất khả xâm phạm của một đất nước, một quốc gia, một dân tộc bởi chính người dân sinh sống ở đó, có nghĩa có chủ quyền tối cao.\\n',\n",
              " 'Hiểu biết đích thực là biết rằng mình không biết gì cả.\\n',\n",
              " 'Người không hài lòng với những gì anh ta có cũng sẽ không hài lòng với những gì anh ta sẽ có.\\n',\n",
              " 'Thứ gì không mua được bằng tiền thì mua được bằng nhiều tiền.\\n',\n",
              " 'Không ai là nhân vật phản diện trong câu chuyện của chính họ.']"
            ]
          },
          "metadata": {},
          "execution_count": 5
        }
      ],
      "source": [
        "f= open('/content/gdrive/MyDrive/Report/Bộ dữ liệu/DuLieu.txt') #đường dẫn bộ ngữ liệu\n",
        "lines = f.readlines() # hiển thị bộ ngữ liệu ->return một list gồm các câu\n",
        "lines"
      ]
    },
    {
      "cell_type": "markdown",
      "metadata": {
        "id": "qbHDv4Ch904V"
      },
      "source": [
        "Đếm tiếng -> chuyển chữ hoa thành chữ thường -> bỏ dấu câu\n",
        "1. Đếm tiếng: sử dụng hàm split để tách các tiếng trong lines\n",
        "2. Chuyển chữ hoa thành chữ thường: sử dụng hàm lower ( chuyển sẽ sai -> bỏ ) \n",
        "3. Bỏ dấu câu ( , . ! ? .... ): sử dụng phương pháp str.translate(). Hàm này sẽ replace những kí tự đặc biệt được miêu tả trong một mapping table. Tạo mapping table bằng hàm str.maketrans. Trong đó string.punctuation là những kí tự đặc biệt ( không bỏ dấu câu, bỏ dấu câu sẽ bị mất nghĩa ) -> bỏ -> solution khác là sử dụng re findall để tìm #Ngưng thực hiện"
      ]
    },
    {
      "cell_type": "markdown",
      "metadata": {
        "id": "a55zXMYJ8knG"
      },
      "source": [
        "# **Phân tích bộ ngữ liệu**"
      ]
    },
    {
      "cell_type": "code",
      "execution_count": null,
      "metadata": {
        "colab": {
          "base_uri": "https://localhost:8080/"
        },
        "id": "3OLFEnA0O5xq",
        "outputId": "db9dcb0c-2b72-4024-cb34-33dfbdd2f748"
      },
      "outputs": [
        {
          "output_type": "execute_result",
          "data": {
            "text/plain": [
              "60"
            ]
          },
          "metadata": {},
          "execution_count": 6
        }
      ],
      "source": [
        "len(lines) "
      ]
    },
    {
      "cell_type": "markdown",
      "metadata": {
        "id": "hRfiF1yK8c7T"
      },
      "source": [
        "Có tổng cộng 60 câu trong bộ ngữ liệu"
      ]
    },
    {
      "cell_type": "code",
      "execution_count": null,
      "metadata": {
        "id": "PaC_EqhOXgln"
      },
      "outputs": [],
      "source": [
        "def split_words(lines):\n",
        "  \n",
        "  \n",
        "  #for i in lines:\n",
        "  #words_in_line = (str.split(lines.translate(str.maketrans('', '', string.punctuation))))\n",
        "  words_in_line = str.split(lines) #Chia theo khoảng trắng\n",
        "  numbers = len(words_in_line) #Đếm số tiếng trong câu\n",
        "  return re.findall('\\w+|[^\\w\\s]',lines, re.UNICODE),numbers"
      ]
    },
    {
      "cell_type": "code",
      "execution_count": null,
      "metadata": {
        "colab": {
          "base_uri": "https://localhost:8080/",
          "height": 445
        },
        "id": "iuAFpwmgHPVG",
        "outputId": "67a7bac6-7556-4630-b7a9-bed7b632639b"
      },
      "outputs": [
        {
          "output_type": "display_data",
          "data": {
            "text/plain": [
              "<Figure size 800x480 with 1 Axes>"
            ],
            "image/png": "[encoded data removed]"
          },
          "metadata": {
            "needs_background": "light"
          }
        }
      ],
      "source": [
        "numbers = []\n",
        "for i in lines:\n",
        "  _, count = split_words(i)\n",
        "  numbers.append(count)\n",
        "fig, ax = plt.subplots(figsize=(10, 6), dpi=80)\n",
        "x = np.arange(1,len(lines)+1)\n",
        "y=np.array(numbers)\n",
        "ax.bar(x, y, width=1, edgecolor=\"white\", linewidth=1)\n",
        "plt.title(\"Só lượng tiếng mỗi câu\")\n",
        "plt.xlabel(\"Câu\")\n",
        "plt.ylabel(\"Số lượng tiếng\")\n",
        "plt.show()"
      ]
    },
    {
      "cell_type": "code",
      "execution_count": null,
      "metadata": {
        "colab": {
          "base_uri": "https://localhost:8080/"
        },
        "id": "6SMYEy8APUwF",
        "outputId": "167e322e-912b-4177-999d-f7603453123f"
      },
      "outputs": [
        {
          "output_type": "stream",
          "name": "stdout",
          "text": [
            "Câu có số tiếng ít nhất: 5\n",
            "Học sinh học sinh học.\n",
            "\n",
            "Quả thơm đó thơm thật.\n",
            "\n"
          ]
        }
      ],
      "source": [
        "print(\"Câu có số tiếng ít nhất:\", y.min())\n",
        "\n",
        "for i in np.array(np.where(y == y.min())).flatten():\n",
        "  index_min = i\n",
        "  print(lines[i])"
      ]
    },
    {
      "cell_type": "code",
      "execution_count": null,
      "metadata": {
        "colab": {
          "base_uri": "https://localhost:8080/"
        },
        "id": "6YNCGQR7BasZ",
        "outputId": "f27c4cdc-fe74-4c7b-b5d9-3a25ebcb9cd4"
      },
      "outputs": [
        {
          "output_type": "stream",
          "name": "stdout",
          "text": [
            "Câu có số tiếng nhiều nhất: 54\n",
            "Triết học là bộ môn nghiên cứu về những vấn đề chung và cơ bản của con người, thế giới quan và vị trí của con người trong thế giới quan, những vấn đề có kết nối với chân lý, sự tồn tại, kiến thức, giá trị, quy luật, ý thức, và ngôn ngữ.\n",
            "\n"
          ]
        }
      ],
      "source": [
        "print(\"Câu có số tiếng nhiều nhất:\", y.max())\n",
        "for i in np.array(np.where(y == y.max())).flatten():\n",
        "  index_max = i\n",
        "  print(lines[i])"
      ]
    },
    {
      "cell_type": "markdown",
      "metadata": {
        "id": "vfcyfjelRN-o"
      },
      "source": [
        "# **Tách từ**"
      ]
    },
    {
      "cell_type": "markdown",
      "metadata": {
        "id": "JqWduuaVpu7h"
      },
      "source": [
        "*Phương pháp: So khớp cực đại\n",
        "\n",
        "Đi từ cuối câu, đầu tiên so sánh xem câu đó có trong từ điển hay không? -> Xóa từ cuối,... lặp lại đến khi nào tìm ra được từ dài nhất\n",
        "  \n",
        "Nhược điểm:\n",
        " - Phụ thuộc nhiều vào bộ từ điển\n",
        " - Sai trong trường hợp nhập nhằng\n",
        "\n",
        "Ưu điểm:\n",
        " -  Dễ cài đặt\n",
        " "
      ]
    },
    {
      "cell_type": "code",
      "execution_count": null,
      "metadata": {
        "colab": {
          "base_uri": "https://localhost:8080/"
        },
        "id": "JzrkzxCLRRAW",
        "outputId": "dd21b6cd-ea4f-41d6-b3eb-cbd8cd50599e"
      },
      "outputs": [
        {
          "output_type": "execute_result",
          "data": {
            "text/plain": [
              "55070"
            ]
          },
          "metadata": {},
          "execution_count": 13
        }
      ],
      "source": [
        "f= open('/content/gdrive/MyDrive/Report/Bộ từ điển/vocabs_tachtu.txt')\n",
        "dict = f.readlines() # hiển thị dict\n",
        "len(dict)"
      ]
    },
    {
      "cell_type": "code",
      "execution_count": null,
      "metadata": {
        "id": "olABFw7ZtEJx"
      },
      "outputs": [],
      "source": [
        "for i in range(0,len(dict)): #xóa \\n\n",
        "  dict[i] = dict[i][:-1]"
      ]
    },
    {
      "cell_type": "markdown",
      "metadata": {
        "id": "uIPUs9Gfe2H3"
      },
      "source": [
        "B1: So sánh cả câu vào bộ từ điển\n",
        "\n",
        "B2: Lần lượt xóa các từ ở cuối câu đến khi so khớp được với bộ từ điển ( cực đại )\n",
        "\n",
        "B3: Xóa từ đã được so khớp và lặp lại đến khi xóa hết cả câu\n",
        "\n",
        "Vd: \n",
        "\n",
        "Hôm nay trời nắng -> Không có trong bộ từ điển -> Xóa từ nắng\n",
        "\n",
        "Hôm nay trời -> Không có trong bộ từ điển -> Xóa từ trời\n",
        "\n",
        "Hôm nay -> Có trong bộ từ điển -> \n",
        "\n",
        "Lặp lại với trời nắng\n"
      ]
    },
    {
      "cell_type": "code",
      "execution_count": null,
      "metadata": {
        "id": "eaIqpmo2sAUx"
      },
      "outputs": [],
      "source": [
        "def tokenizer(lines,dict):\n",
        "  s, _ = split_words(lines)\n",
        "  \n",
        "  words = []\n",
        "  count = 0\n",
        "  while s:\n",
        "    if count == 0:\n",
        "      current_word = ' '.join(s[:])\n",
        "  \n",
        "    if current_word in dict or current_word[0].lower() + current_word[1:] in dict or count == len(s) - 1 : #xét luôn trường hợp chữ đầu câu viết hoa\n",
        "      current_word = current_word.replace(\" \",\"_\")\n",
        "      words.append(current_word)\n",
        "      \n",
        "      s = s[len(s)-count:]\n",
        "      \n",
        "      count = 0\n",
        "      continue\n",
        "    else:\n",
        "      count = count + 1\n",
        "      current_word = ' '.join(s[:-count])\n",
        "    \n",
        "  return words\n"
      ]
    },
    {
      "cell_type": "markdown",
      "metadata": {
        "id": "OTmNewfnF0qL"
      },
      "source": [
        "# **So sánh với thư viên VNCorenlp**"
      ]
    },
    {
      "cell_type": "code",
      "execution_count": null,
      "metadata": {
        "colab": {
          "base_uri": "https://localhost:8080/"
        },
        "id": "usqLl2ZVF-uA",
        "outputId": "edd4ad0a-1dbe-4f13-faa1-95fe337760f3"
      },
      "outputs": [
        {
          "output_type": "stream",
          "name": "stdout",
          "text": [
            "Tokenizing: [['Quả', 'thơm', 'đó', 'thơm', 'thật', '.']]\n",
            "Tokenizing: [['Triết_học', 'là', 'bộ_môn', 'nghiên_cứu', 'về', 'những', 'vấn_đề', 'chung', 'và', 'cơ_bản', 'của', 'con_người', ',', 'thế_giới_quan', 'và', 'vị_trí', 'của', 'con_người', 'trong', 'thế_giới_quan', ',', 'những', 'vấn_đề', 'có', 'kết_nối', 'với', 'chân_lý', ',', 'sự', 'tồn_tại', ',', 'kiến_thức', ',', 'giá_trị', ',', 'quy_luật', ',', 'ý_thức', ',', 'và', 'ngôn_ngữ', '.']]\n"
          ]
        }
      ],
      "source": [
        "#model = py_vncorenlp.VnCoreNLP(save_dir='/content/gdrive/MyDrive/CS221')\n",
        "print('Tokenizing:', vncorenlp.tokenize(lines[index_min]))\n",
        "print('Tokenizing:', vncorenlp.tokenize(lines[index_max]))\n",
        "#vncorenlp.close()"
      ]
    },
    {
      "cell_type": "code",
      "execution_count": null,
      "metadata": {
        "colab": {
          "base_uri": "https://localhost:8080/"
        },
        "id": "1-nDFwja3PYW",
        "outputId": "3942b851-79b6-4aa4-bfca-67c1440e7d1d"
      },
      "outputs": [
        {
          "output_type": "stream",
          "name": "stdout",
          "text": [
            "Tokenizing: ['Quả', 'thơm', 'đó', 'thơm', 'thật', '.']\n",
            "Tokenizing: ['Triết_học', 'là', 'bộ_môn', 'nghiên_cứu', 'về', 'những', 'vấn_đề', 'chung', 'và', 'cơ_bản', 'của', 'con_người', ',', 'thế_giới_quan', 'và', 'vị_trí', 'của', 'con_người', 'trong', 'thế_giới_quan', ',', 'những', 'vấn_đề', 'có', 'kết_nối', 'với', 'chân_lý', ',', 'sự', 'tồn_tại', ',', 'kiến_thức', ',', 'giá_trị', ',', 'quy_luật', ',', 'ý_thức', ',', 'và', 'ngôn_ngữ', '.']\n"
          ]
        }
      ],
      "source": [
        "print('Tokenizing:',tokenizer(lines[index_min],dict))\n",
        "print('Tokenizing:',tokenizer(lines[index_max],dict))"
      ]
    },
    {
      "cell_type": "code",
      "execution_count": null,
      "metadata": {
        "colab": {
          "base_uri": "https://localhost:8080/"
        },
        "id": "37hIjhzoAjNI",
        "outputId": "551fb3f0-eb8d-4000-a670-70d8d764f12c"
      },
      "outputs": [
        {
          "output_type": "stream",
          "name": "stdout",
          "text": [
            "Tokenizing của VNCorelp: [['Anh', 'yêu', 'rất', 'yêu', 'em', 'yêu', 'nhiều', 'lắm', '.']]\n",
            "Tokenizing của thuật toán: ['Anh', 'yêu', 'rất', 'yêu', 'em', 'yêu', 'nhiều', 'lắm', '.']\n"
          ]
        }
      ],
      "source": [
        "import random\n",
        "val = random.randint(0, 59)\n",
        "# Tách bằng VNCorenlp\n",
        "print('Tokenizing của VNCorelp:', vncorenlp.tokenize(lines[val]))\n",
        "# Tách bằng so khớp cực đại\n",
        "print('Tokenizing của thuật toán:',tokenizer(lines[val],dict))"
      ]
    },
    {
      "cell_type": "markdown",
      "metadata": {
        "id": "z8JBLGblAt0L"
      },
      "source": [
        "# **Đánh giá kết quả tách từ**"
      ]
    },
    {
      "cell_type": "code",
      "source": [
        "predict_max = []   #tách từ toàn bộ dữ liệu bằng so khớp cực đại\n",
        "for line in lines:\n",
        "  temp = \"\"\n",
        "  for i in tokenizer(line,dict):\n",
        "    temp = temp + i + ' '\n",
        "  temp = temp + '\\n'\n",
        "  predict_max.append(temp)\n",
        "    "
      ],
      "metadata": {
        "id": "qDgBnUOH6tAd"
      },
      "execution_count": null,
      "outputs": []
    },
    {
      "cell_type": "code",
      "source": [
        "predict_vn = []   #tách từ toàn bộ dữ liệu bằng thư viện\n",
        "for line in lines:\n",
        "  temp = \"\"\n",
        "  for i in vncorenlp.tokenize(line):\n",
        "    s = ' '.join(i)\n",
        "    temp = temp + s + ' '\n",
        "  temp = temp + '\\n'\n",
        "  predict_vn.append(temp)"
      ],
      "metadata": {
        "id": "3NXZEdRa8hyb"
      },
      "execution_count": null,
      "outputs": []
    },
    {
      "cell_type": "code",
      "execution_count": null,
      "metadata": {
        "id": "cVZ-1nRh1Txo"
      },
      "outputs": [],
      "source": [
        "f= open('/content/gdrive/MyDrive/Report/Bộ ngữ liệu/NguLieu_TachTu.txt')\n",
        "label = f.readlines() # hiển thị bộ ngữ liệu ->return một list gồm các câu\n",
        "# Bộ đã tách thủ công"
      ]
    },
    {
      "cell_type": "markdown",
      "metadata": {
        "id": "DKWttAHfTkJ4"
      },
      "source": [
        "Confusion Matrix thì có 4 cột: nhãn là đúng và model cũng dự đoán đúng (TP), model dự đoán sai nhưng thực tế là đúng (FN), model dự đoán đúng nhưng thực tế sai(FP), model dự đoán sai và thực tế cũng là sai "
      ]
    },
    {
      "cell_type": "code",
      "execution_count": null,
      "metadata": {
        "id": "H5rY-nV0v4VQ"
      },
      "outputs": [],
      "source": [
        "def label_true_and_false(label): #đếm số nhãn label(y_true) là từ ghép và từ đơn, từ ghép là true và từ đơn là false. Input của hàm là 1 câu\n",
        "  total_label_true = 0\n",
        "  total_label_false = 0\n",
        "  for i in label.split():\n",
        "    if len(i.split(\"_\"))>1: total_label_true = total_label_true + 1\n",
        "    else: total_label_false = total_label_false + 1\n",
        "  return total_label_true, total_label_false"
      ]
    },
    {
      "cell_type": "code",
      "execution_count": null,
      "metadata": {
        "id": "7gapmW4sFspX"
      },
      "outputs": [],
      "source": [
        "def qc_a_line(predict,label): #input là 1 câu\n",
        "  TP = 0 #True Postive (Thực tế: từ ghép ; đánh giá: từ ghép)\n",
        "  FN = 0 #False Negative (Thực tế: từ ghép ; đánh giá: TH1-từ đơn, TH2-từ ghép dư/thiếu) \n",
        "  FP = 0  #False Positive (Thực tế: từ đơn ; đánh giá: từ ghép)\n",
        "  TN = 0 #True Negative ((Thực tế: từ đơn ; đánh giá: từ đơn))\n",
        "  index = 0\n",
        "  total_label_true, total_label_false = label_true_and_false(label)\n",
        "  predict = predict.split()\n",
        "  label = label.split()\n",
        "  stop = 0\n",
        "  total_next_count = 0\n",
        "  next_count = -1\n",
        "  for i in range (len(label)):\n",
        "    if stop != 0:\n",
        "      stop = stop - 1\n",
        "      continue\n",
        "    if total_next_count == next_count: \n",
        "      index = index + 1\n",
        "      total_next_count = 0\n",
        "    count = len(label[i].split(\"_\"))\n",
        "    #print(label[i])\n",
        "    #print(predict[index])\n",
        "    if count > 1:  #nếu đây là từ ghép, tức là label 1\n",
        "      if label[i] == predict[index]: #trường hợp predict cũng là từ ghép (True Positive )\n",
        "         TP = TP + 1\n",
        "         index = index + 1\n",
        "      else:  #nếu đây là ghép mà predict dự đoán là từ đơn (False Negative)\n",
        "        if len(predict[index].split(\"_\")) > count:    #trường hợp là từ ghép nhưng ghép dư từ \n",
        "          next_count = len(predict[index].split(\"_\"))\n",
        "          total_next_count = total_next_count + count\n",
        "          continue\n",
        "        if len(predict[index+1].split(\"_\")) > 1: count = count - 1\n",
        "        index = index + count\n",
        "    else:\n",
        "      if label[i] == predict[index]: #là từ đơn và model dự đoán từ đơn\n",
        "        index = index + 1\n",
        "        TN = TN + 1\n",
        "      else: #là từ đơn nhưng mà model dự đoán là từ ghép\n",
        "        numbers = len(predict[index].split(\"_\"))\n",
        "        FP = FP + numbers\n",
        "        index = index + 1\n",
        "        stop = numbers - 1\n",
        "        \n",
        "  return TP, total_label_true - TP, FP, TN\n",
        "      "
      ]
    },
    {
      "cell_type": "code",
      "execution_count": null,
      "metadata": {
        "colab": {
          "base_uri": "https://localhost:8080/"
        },
        "id": "aA3yvdONXwWQ",
        "outputId": "f01b4194-4cdd-4ed6-ba2f-1baecbff2021"
      },
      "outputs": [
        {
          "output_type": "stream",
          "name": "stdout",
          "text": [
            "Dự đoán: Nhưng điều quan_trọng nhất_là tôi tìm thấy sức_mạnh nội_tại và tôi chiến_đấu vì nó . \n",
            "\n",
            "Lable: Nhưng điều quan_trọng nhất là tôi tìm thấy sức_mạnh nội_tại và tôi chiến_đấu vì nó . \n",
            "\n",
            "True Positive: 4 - Trường hợp có 4 từ ghép được đánh giá đúng\n",
            "False Negative: 0 - Trường hợp có 0 từ ghép bị đánh giá sai\n",
            "False Positive: 2 - Trường hợp có 2 từ đơn bị đánh giá sai\n",
            "True Negative: 10 - Trường hợp có 10 từ đơn được đánh giá đúng\n"
          ]
        }
      ],
      "source": [
        "print(\"Dự đoán:\",predict_max[1])\n",
        "print(\"Lable:\",label[1])\n",
        "TP,FN,FP,TN = qc_a_line(predict_max[1],label[1])\n",
        "print(\"True Positive:\",TP,\"- Trường hợp có\",TP,\"từ ghép được đánh giá đúng\")\n",
        "print(\"False Negative:\",FN,\"- Trường hợp có\",FN,\"từ ghép bị đánh giá sai\")\n",
        "print(\"False Positive:\",FP,\"- Trường hợp có\",FP,\"từ đơn bị đánh giá sai\")\n",
        "print(\"True Negative:\",TN,\"- Trường hợp có\",TN,\"từ đơn được đánh giá đúng\")"
      ]
    },
    {
      "cell_type": "code",
      "execution_count": null,
      "metadata": {
        "colab": {
          "base_uri": "https://localhost:8080/"
        },
        "id": "bWoZN6oFaij8",
        "outputId": "370ea9aa-900a-4345-e56b-4294d3f806e2"
      },
      "outputs": [
        {
          "output_type": "stream",
          "name": "stdout",
          "text": [
            "Dự đoán: Đội vương_miện chính mình , viết tiếp cuộc_đời bằng trang hành_trình nhiệt_huyết , bản_lĩnh cá_nhân . \n",
            "\n",
            "Lable: Đội vương_miện chính mình , viết_tiếp cuộc_đời bằng trang_hành_trình nhiệt_huyết , bản_lĩnh cá_nhân . \n",
            "\n",
            "True Positive: 5 - Trường hợp có 5 từ ghép được đánh giá đúng\n",
            "False Negative: 2 - Trường hợp có 2 từ ghép bị đánh giá sai\n",
            "False Positive: 0 - Trường hợp có 0 từ đơn bị đánh giá sai\n",
            "True Negative: 7 - Trường hợp có 7 từ đơn được đánh giá đúng\n"
          ]
        }
      ],
      "source": [
        "print(\"Dự đoán:\",predict_max[3])\n",
        "print(\"Lable:\",label[3])\n",
        "TP,FN,FP,TN = qc_a_line(predict_max[3],label[3])\n",
        "print(\"True Positive:\",TP,\"- Trường hợp có\",TP,\"từ ghép được đánh giá đúng\")\n",
        "print(\"False Negative:\",FN,\"- Trường hợp có\",FN,\"từ ghép bị đánh giá sai\")\n",
        "print(\"False Positive:\",FP,\"- Trường hợp có\",FP,\"từ đơn bị đánh giá sai\")\n",
        "print(\"True Negative:\",TN,\"- Trường hợp có\",TN,\"từ đơn được đánh giá đúng\")"
      ]
    },
    {
      "cell_type": "code",
      "execution_count": null,
      "metadata": {
        "id": "2ZIejAlf4kVw"
      },
      "outputs": [],
      "source": [
        "def qc_text(predict,label):\n",
        "  TP = 0\n",
        "  FN = 0\n",
        "  FP = 0\n",
        "  TN = 0\n",
        "  for i in range(len(predict)):\n",
        "    #print(i)\n",
        "    TP_temp, FN_temp, FP_temp, TN_temp = qc_a_line(predict[i],label[i])\n",
        "    TP = TP + TP_temp\n",
        "    FN = FN + FN_temp\n",
        "    FP = FP + FP_temp\n",
        "    TN = TN + TN_temp\n",
        "  return {\n",
        "      'Accuracy': (TP+TN) / (TP+TN+FP+FN),\n",
        "      'Precision': TP / (TP + FP), \n",
        "       'Recall':  TP / ( TP + FN ),\n",
        "       'True Positive': TP,\n",
        "       'True Negative': TN,\n",
        "       'False Positive': FP,\n",
        "       'False Negative': FN\n",
        "      }"
      ]
    },
    {
      "cell_type": "code",
      "execution_count": null,
      "metadata": {
        "colab": {
          "base_uri": "https://localhost:8080/",
          "height": 269
        },
        "id": "JZ8wLR4v7c91",
        "outputId": "92b2a8d4-6f10-47b9-8e15-f03a92a60ee3"
      },
      "outputs": [
        {
          "output_type": "execute_result",
          "data": {
            "text/plain": [
              "               Longest Matching VnCoreNLP\n",
              "Accuracy               0.892683   0.88499\n",
              "Precision              0.790262  0.775281\n",
              "Recall                 0.796226  0.781132\n",
              "True Positive               211       207\n",
              "True Negative               704       701\n",
              "False Positive               56        60\n",
              "False Negative               54        58"
            ],
            "text/html": [
              "\n",
              "  <div id=\"df-83e952bb-ed98-4998-b489-36ccc6e667b7\">\n",
              "    <div class=\"colab-df-container\">\n",
              "      <div>\n",
              "<style scoped>\n",
              "    .dataframe tbody tr th:only-of-type {\n",
              "        vertical-align: middle;\n",
              "    }\n",
              "\n",
              "    .dataframe tbody tr th {\n",
              "        vertical-align: top;\n",
              "    }\n",
              "\n",
              "    .dataframe thead th {\n",
              "        text-align: right;\n",
              "    }\n",
              "</style>\n",
              "<table border=\"1\" class=\"dataframe\">\n",
              "  <thead>\n",
              "    <tr style=\"text-align: right;\">\n",
              "      <th></th>\n",
              "      <th>Longest Matching</th>\n",
              "      <th>VnCoreNLP</th>\n",
              "    </tr>\n",
              "  </thead>\n",
              "  <tbody>\n",
              "    <tr>\n",
              "      <th>Accuracy</th>\n",
              "      <td>0.892683</td>\n",
              "      <td>0.88499</td>\n",
              "    </tr>\n",
              "    <tr>\n",
              "      <th>Precision</th>\n",
              "      <td>0.790262</td>\n",
              "      <td>0.775281</td>\n",
              "    </tr>\n",
              "    <tr>\n",
              "      <th>Recall</th>\n",
              "      <td>0.796226</td>\n",
              "      <td>0.781132</td>\n",
              "    </tr>\n",
              "    <tr>\n",
              "      <th>True Positive</th>\n",
              "      <td>211</td>\n",
              "      <td>207</td>\n",
              "    </tr>\n",
              "    <tr>\n",
              "      <th>True Negative</th>\n",
              "      <td>704</td>\n",
              "      <td>701</td>\n",
              "    </tr>\n",
              "    <tr>\n",
              "      <th>False Positive</th>\n",
              "      <td>56</td>\n",
              "      <td>60</td>\n",
              "    </tr>\n",
              "    <tr>\n",
              "      <th>False Negative</th>\n",
              "      <td>54</td>\n",
              "      <td>58</td>\n",
              "    </tr>\n",
              "  </tbody>\n",
              "</table>\n",
              "</div>\n",
              "      <button class=\"colab-df-convert\" onclick=\"convertToInteractive('df-83e952bb-ed98-4998-b489-36ccc6e667b7')\"\n",
              "              title=\"Convert this dataframe to an interactive table.\"\n",
              "              style=\"display:none;\">\n",
              "        \n",
              "  <svg xmlns=\"http://www.w3.org/2000/svg\" height=\"24px\"viewBox=\"0 0 24 24\"\n",
              "       width=\"24px\">\n",
              "    <path d=\"M0 0h24v24H0V0z\" fill=\"none\"/>\n",
              "    <path d=\"M18.56 5.44l.94 2.06.94-2.06 2.06-.94-2.06-.94-.94-2.06-.94 2.06-2.06.94zm-11 1L8.5 8.5l.94-2.06 2.06-.94-2.06-.94L8.5 2.5l-.94 2.06-2.06.94zm10 10l.94 2.06.94-2.06 2.06-.94-2.06-.94-.94-2.06-.94 2.06-2.06.94z\"/><path d=\"M17.41 7.96l-1.37-1.37c-.4-.4-.92-.59-1.43-.59-.52 0-1.04.2-1.43.59L10.3 9.45l-7.72 7.72c-.78.78-.78 2.05 0 2.83L4 21.41c.39.39.9.59 1.41.59.51 0 1.02-.2 1.41-.59l7.78-7.78 2.81-2.81c.8-.78.8-2.07 0-2.86zM5.41 20L4 18.59l7.72-7.72 1.47 1.35L5.41 20z\"/>\n",
              "  </svg>\n",
              "      </button>\n",
              "      \n",
              "  <style>\n",
              "    .colab-df-container {\n",
              "      display:flex;\n",
              "      flex-wrap:wrap;\n",
              "      gap: 12px;\n",
              "    }\n",
              "\n",
              "    .colab-df-convert {\n",
              "      background-color: #E8F0FE;\n",
              "      border: none;\n",
              "      border-radius: 50%;\n",
              "      cursor: pointer;\n",
              "      display: none;\n",
              "      fill: #1967D2;\n",
              "      height: 32px;\n",
              "      padding: 0 0 0 0;\n",
              "      width: 32px;\n",
              "    }\n",
              "\n",
              "    .colab-df-convert:hover {\n",
              "      background-color: #E2EBFA;\n",
              "      box-shadow: 0px 1px 2px rgba(60, 64, 67, 0.3), 0px 1px 3px 1px rgba(60, 64, 67, 0.15);\n",
              "      fill: #174EA6;\n",
              "    }\n",
              "\n",
              "    [theme=dark] .colab-df-convert {\n",
              "      background-color: #3B4455;\n",
              "      fill: #D2E3FC;\n",
              "    }\n",
              "\n",
              "    [theme=dark] .colab-df-convert:hover {\n",
              "      background-color: #434B5C;\n",
              "      box-shadow: 0px 1px 3px 1px rgba(0, 0, 0, 0.15);\n",
              "      filter: drop-shadow(0px 1px 2px rgba(0, 0, 0, 0.3));\n",
              "      fill: #FFFFFF;\n",
              "    }\n",
              "  </style>\n",
              "\n",
              "      <script>\n",
              "        const buttonEl =\n",
              "          document.querySelector('#df-83e952bb-ed98-4998-b489-36ccc6e667b7 button.colab-df-convert');\n",
              "        buttonEl.style.display =\n",
              "          google.colab.kernel.accessAllowed ? 'block' : 'none';\n",
              "\n",
              "        async function convertToInteractive(key) {\n",
              "          const element = document.querySelector('#df-83e952bb-ed98-4998-b489-36ccc6e667b7');\n",
              "          const dataTable =\n",
              "            await google.colab.kernel.invokeFunction('convertToInteractive',\n",
              "                                                     [key], {});\n",
              "          if (!dataTable) return;\n",
              "\n",
              "          const docLinkHtml = 'Like what you see? Visit the ' +\n",
              "            '<a target=\"_blank\" href=https://colab.research.google.com/notebooks/data_table.ipynb>data table notebook</a>'\n",
              "            + ' to learn more about interactive tables.';\n",
              "          element.innerHTML = '';\n",
              "          dataTable['output_type'] = 'display_data';\n",
              "          await google.colab.output.renderOutput(dataTable, element);\n",
              "          const docLink = document.createElement('div');\n",
              "          docLink.innerHTML = docLinkHtml;\n",
              "          element.appendChild(docLink);\n",
              "        }\n",
              "      </script>\n",
              "    </div>\n",
              "  </div>\n",
              "  "
            ]
          },
          "metadata": {},
          "execution_count": 53
        }
      ],
      "source": [
        "pd.DataFrame(\n",
        "    [qc_text(predict_max,label), qc_text(predict_vn,label)], \n",
        "    index = ['Longest Matching', 'VnCoreNLP']\n",
        ").astype(object).T"
      ]
    },
    {
      "cell_type": "markdown",
      "metadata": {
        "id": "IflW9xvkrG2P"
      },
      "source": [
        "## **Gán Nhãn Từ Loại bằng HMM**"
      ]
    },
    {
      "cell_type": "markdown",
      "metadata": {
        "id": "ha593IN_-ZMe"
      },
      "source": [
        "# Xử lí dataset"
      ]
    },
    {
      "cell_type": "markdown",
      "metadata": {
        "id": "Z3xTWmjxCNQ2"
      },
      "source": [
        "Chia bộ dataset thành train và test"
      ]
    },
    {
      "cell_type": "code",
      "execution_count": null,
      "metadata": {
        "id": "Ir9FK_MGCLs9"
      },
      "outputs": [],
      "source": [
        "data_label = open('/content/gdrive/MyDrive/Report/Bộ ngữ liệu/NguLieu_GanNhan.txt').readlines() #load lại bộ data đã gán nhãn thủ công\n",
        "data = open('/content/gdrive/MyDrive/Report/Bộ ngữ liệu/NguLieu_TachTu.txt').readlines() #load bộ data nhóm đã tách từ thủ công"
      ]
    },
    {
      "cell_type": "code",
      "source": [
        "def format_data_label(data): #chỉnh sửa lại format của dataa_label\n",
        "  a = []\n",
        "  for i in data:\n",
        "    i.replace('CH\\n','CH')\n",
        "    a.extend(i.split(\"-\"))\n",
        "  return a"
      ],
      "metadata": {
        "id": "qPgGtXAaCvsQ"
      },
      "execution_count": null,
      "outputs": []
    },
    {
      "cell_type": "code",
      "source": [
        "data_label = format_data_label(data_label)"
      ],
      "metadata": {
        "id": "kk7_31uJDcxS"
      },
      "execution_count": null,
      "outputs": []
    },
    {
      "cell_type": "code",
      "execution_count": null,
      "metadata": {
        "id": "tSheTY3sUGKU"
      },
      "outputs": [],
      "source": [
        "data_train = []\n",
        "data_test = []\n",
        "count = 0\n",
        "for i in data:\n",
        "  i = i.replace(i[0],i[0].lower()) #viết thường\n",
        "  temp = i.split(\" \")\n",
        "  if count >= 40:\n",
        "    data_test.extend(temp)\n",
        "  else: data_train.extend(temp)\n",
        "  count = count + 1\n",
        "data_train = list(filter(('\\n').__ne__, data_train))\n",
        "data_test = list(filter(('\\n').__ne__, data_test))\n"
      ]
    },
    {
      "cell_type": "markdown",
      "metadata": {
        "id": "rfA3tNiInssc"
      },
      "source": [
        "Chia tập train/test = 40 câu/12 câu"
      ]
    },
    {
      "cell_type": "code",
      "execution_count": null,
      "metadata": {
        "id": "PEbbqH8thnyD"
      },
      "outputs": [],
      "source": [
        "data_train_label = []\n",
        "data_test_label = []\n",
        "tag = []\n",
        "count = 0\n",
        "for i in data_label:\n",
        "  \n",
        "  if len(i)>1: \n",
        "    tag_current = i.split()[-1]\n",
        "    if tag_current not in tag:\n",
        "       tag.append(tag_current)\n",
        "  if count >= 41: \n",
        "    data_test_label.append(i)                 \n",
        "  else: data_train_label.append(i)\n",
        "  if i =='\\n':\n",
        "    count = count + 1\n",
        "data_train_label = list(filter(('\\n').__ne__, data_train_label))\n",
        "data_test_label = list(filter(('\\n').__ne__, data_test_label))"
      ]
    },
    {
      "cell_type": "code",
      "execution_count": null,
      "metadata": {
        "id": "mumDMvIlLThz"
      },
      "outputs": [],
      "source": [
        "def count_label(data_train_label):\n",
        "  array = {}\n",
        "  for i in range (len(data_train_label)):\n",
        "    temp = data_train_label[i].split()[-1]\n",
        "    if temp not in array:\n",
        "      array[temp] = 0\n",
        "    else: array[temp] = array[temp] + 1\n",
        "  sort = list(array)\n",
        "  sort.sort()\n",
        "  array = {i: array[i] for i in sort}\n",
        "  fig, ax = plt.subplots(figsize=(10, 6), dpi=80)\n",
        "  x = []\n",
        "  y = []\n",
        "  for i in array:\n",
        "    x.append(i)\n",
        "    y.append(array.get(i))\n",
        "\n",
        "  ax.bar(x, y, width=1, edgecolor=\"white\", linewidth=1)\n",
        "  plt.title(\"Só lượng các nhãn\")\n",
        "  plt.xlabel(\"Nhãn\")\n",
        "  plt.ylabel(\"Số lượng \")\n",
        "  plt.show()"
      ]
    },
    {
      "cell_type": "code",
      "execution_count": null,
      "metadata": {
        "colab": {
          "base_uri": "https://localhost:8080/",
          "height": 444
        },
        "id": "PCxpOTyWOmhY",
        "outputId": "ac7a263e-52dd-4531-86ef-36beaf8c81c9"
      },
      "outputs": [
        {
          "output_type": "display_data",
          "data": {
            "text/plain": [
              "<Figure size 800x480 with 1 Axes>"
            ],
            "image/png": "[encoded data removed]"
          },
          "metadata": {
            "needs_background": "light"
          }
        }
      ],
      "source": [
        "count_label(data_train_label)"
      ]
    },
    {
      "cell_type": "code",
      "execution_count": null,
      "metadata": {
        "colab": {
          "base_uri": "https://localhost:8080/",
          "height": 444
        },
        "id": "gPjrj8b9TT3a",
        "outputId": "ef40c122-5b6a-4554-b0d5-d96ac6268c8d"
      },
      "outputs": [
        {
          "output_type": "display_data",
          "data": {
            "text/plain": [
              "<Figure size 800x480 with 1 Axes>"
            ],
            "image/png": "[encoded data removed]"
          },
          "metadata": {
            "needs_background": "light"
          }
        }
      ],
      "source": [
        "count_label(data_test_label)"
      ]
    },
    {
      "cell_type": "code",
      "execution_count": null,
      "metadata": {
        "colab": {
          "base_uri": "https://localhost:8080/"
        },
        "id": "TyIf-TtEfEA9",
        "outputId": "596dfcdd-b90c-4966-84dd-781ff58fd841"
      },
      "outputs": [
        {
          "output_type": "stream",
          "name": "stdout",
          "text": [
            "Số từ trong bộ dataset train: 682\n",
            "Số từ trong bộ dataset test: 334\n"
          ]
        }
      ],
      "source": [
        "print(\"Số từ trong bộ dataset train:\", len(data_train))\n",
        "print(\"Số từ trong bộ dataset test:\", len(data_test))"
      ]
    },
    {
      "cell_type": "markdown",
      "metadata": {
        "id": "MNyt_l26hpjH"
      },
      "source": [
        "Check xem có từ nào không có trong bộ từ điển"
      ]
    },
    {
      "cell_type": "code",
      "execution_count": null,
      "metadata": {
        "id": "SxdNb9zWh2I6"
      },
      "outputs": [],
      "source": [
        "vocabs = open('/content/gdrive/MyDrive/Report/Bộ từ điển/vocabs_HMM.txt').readlines()"
      ]
    },
    {
      "cell_type": "code",
      "execution_count": null,
      "metadata": {
        "colab": {
          "base_uri": "https://localhost:8080/"
        },
        "id": "tbk4UrvCiQt2",
        "outputId": "010da1ec-598a-446e-c039-94ed791a7384"
      },
      "outputs": [
        {
          "output_type": "stream",
          "name": "stdout",
          "text": [
            "Số từ của tập train không có trong từ điển là:  33\n"
          ]
        },
        {
          "output_type": "execute_result",
          "data": {
            "text/plain": [
              "{'DCG',\n",
              " 'FSA',\n",
              " 'Prolog',\n",
              " 'UIt',\n",
              " 'bánh_cam',\n",
              " 'bên_ngoài',\n",
              " 'bẩm',\n",
              " 'câu_hỏi',\n",
              " 'dâng_trào',\n",
              " 'giấc_mơ',\n",
              " 'giới_trẻ',\n",
              " 'gục_ngã',\n",
              " 'hãng_tin',\n",
              " 'hòa_nhập',\n",
              " 'hồi_đó',\n",
              " 'hồi_ấy',\n",
              " 'lao_ra',\n",
              " 'ly_trà_sữa',\n",
              " 'lúa_nếp',\n",
              " 'lớp_lớp',\n",
              " 'món_rán',\n",
              " 'ngước_nhìn',\n",
              " 'nhiều_hơn',\n",
              " 'thơm_ngon',\n",
              " 'thầm_nghĩ',\n",
              " 'thế_này',\n",
              " 'trang_hành_trình',\n",
              " 'tới_đâu',\n",
              " 'viết_tiếp',\n",
              " 'văn_phạm',\n",
              " 'đáy_lòng',\n",
              " 'đổ_lỗi',\n",
              " 'ổ_bánh_mì'}"
            ]
          },
          "metadata": {},
          "execution_count": 270
        }
      ],
      "source": [
        "unk_words_train = []\n",
        "for i in data_train:\n",
        "  if i +'\\n' not in vocabs and i != '\\n':\n",
        "    unk_words_train.append(i)\n",
        "unk_words_train = set(unk_words_train)\n",
        "print(\"Số từ của tập train không có trong từ điển là: \", len(unk_words_train))\n",
        "unk_words_train\n",
        "    \n"
      ]
    },
    {
      "cell_type": "code",
      "execution_count": null,
      "metadata": {
        "colab": {
          "base_uri": "https://localhost:8080/"
        },
        "id": "dGiDcyLiOYlz",
        "outputId": "9c420f67-26bf-4cc2-feb8-0f6e69be1129"
      },
      "outputs": [
        {
          "output_type": "stream",
          "name": "stdout",
          "text": [
            "Số từ của tập test không có trong từ điển là:  6\n"
          ]
        },
        {
          "output_type": "execute_result",
          "data": {
            "text/plain": [
              "{'khả', 'matcha', 'ngang_nhau', 'sinh_ra', 'thế_giới_quan_duy_vật', 'ánh_mắt'}"
            ]
          },
          "metadata": {},
          "execution_count": 271
        }
      ],
      "source": [
        "unk_words_test = []\n",
        "for i in data_test:\n",
        "  if i +'\\n' not in vocabs and i != '\\n':\n",
        "    unk_words_test.append(i)\n",
        "unk_words_test = set(unk_words_test)\n",
        "print(\"Số từ của tập test không có trong từ điển là: \", len(unk_words_test))\n",
        "unk_words_test\n",
        "    \n"
      ]
    },
    {
      "cell_type": "markdown",
      "metadata": {
        "id": "zRP_veV4qkqH"
      },
      "source": [
        "# Xây dựng 2 ma trận A ( chuyển trạng thái ) và ma trận B ( emisson )"
      ]
    },
    {
      "cell_type": "markdown",
      "metadata": {
        "id": "1TQ1kGkt6bsg"
      },
      "source": [
        "Gồm 5 tham số:\n",
        "\n",
        "- Tập tag là các trạng thái \n",
        "- Tập train: Các từ trong câu\n",
        "- A là ma trận chuyển trạng thái\n",
        "\n",
        "- B là ma trận thể hiện\n",
        "- Bộ từ điển"
      ]
    },
    {
      "cell_type": "code",
      "execution_count": null,
      "metadata": {
        "colab": {
          "base_uri": "https://localhost:8080/"
        },
        "id": "mGeor8vRU5On",
        "outputId": "61ff906b-1079-43cc-f0dd-2d9299e3abff"
      },
      "outputs": [
        {
          "output_type": "stream",
          "name": "stdout",
          "text": [
            "Số tag trong ngữ liệu:  ['A', 'C', 'CH', 'D', 'E', 'I', 'M', 'N', 'Nc', 'Np', 'P', 'R', 'V', 'X', 'Z']\n"
          ]
        }
      ],
      "source": [
        "tag = list(set(tag))\n",
        "tag.sort()\n",
        "print(\"Số tag trong ngữ liệu: \", tag)"
      ]
    },
    {
      "cell_type": "code",
      "execution_count": null,
      "metadata": {
        "id": "CvV668ud7S-E"
      },
      "outputs": [],
      "source": [
        "tag.insert(0,'<s>') # thêm vào tag kí tự bắt đầu một cuỗi"
      ]
    },
    {
      "cell_type": "markdown",
      "metadata": {
        "id": "2sHNVWRIsL3e"
      },
      "source": [
        "**Ma trận chuyển trạng thái A**\n",
        "\n",
        "- **Ý nghĩa** của ma trận A: tính xác suất mà một postag này chuyển sang một postag khác ( giải thích rõ hơn ở bên dưới )  \n",
        "\n",
        "**Bước 1**: Tạo ma trận A với kích thước tag x tag ( giá trị 0 )\n",
        "\n",
        "**Bước 2**: Duyệt lần lượt cặp từ trong bộ dữ liệu train -> lấy 2 postag của 2 từ đó\n",
        "\n",
        "**Bước 3**: Cộng 1 vào vị trí tương ứng trong ma trận A\n",
        "\n",
        "**Bước 4**: Cộng hệ số Laplace cho tất cả các phần tử ( 0,001 )\n",
        "\n",
        "**Bước 5**: Tính xác suất smoothing"
      ]
    },
    {
      "cell_type": "code",
      "execution_count": null,
      "metadata": {
        "id": "wLUlXt5Nyy8E"
      },
      "outputs": [],
      "source": [
        "def matrix_status(train,tag): #input là tập chữ, tag -> output là số lượng tương ứng ( chưa được xử lí thành xác suất)\n",
        "  A = np.zeros((len(tag),len(tag))) # tạo ma trận A value default = 0\n",
        "  word_current, tag_current = train[0].split()  #Lấy postag của chữ bắt đầu của bộ ngữ liệu \n",
        "  j = tag.index(tag_current) \n",
        "  A[0][j] = A[0][j] + 1      #Cộng 1 vào vị trí mà tag <s> chuyển sang tag tương ứng của chữ đầu câu \n",
        "  A[0][0] =  A[0][0] + 1  #Cộng 1 vào số lượng tag <s>\n",
        "  A[j][0] = A[j][0] + 1\n",
        "  for i in range (1,len(train)): #Duyệt từ tiếp theo tới hết tập chữ\n",
        "    t = True \n",
        "    if train[i] == '\\n' :  #Không tính kí tự xuống dòng\n",
        "      continue\n",
        "    word_current, tag_current = train[i].split() #Lấy postag hiện tại\n",
        "    if train[i-1]!='\\n': word_pre, tag_pre = train[i-1].split() #Nếu trước đó là từ, sẽ lấy postag của từ đó\n",
        "    else:  #Nếu trước đó là kí tứ xuống dòng -> tương đương postag sẽ CH ( dấu chấm )\n",
        "      tag_pre='CH'\n",
        "      t = False\n",
        "    j = tag.index(tag_current)\n",
        "    i_ = tag.index(tag_pre)\n",
        "    if tag_pre == 'CH' and t==False: #Do CH sẽ có 2 trường hợp. Đầu tiên là chấm cuối câu, hai là dấu câu ở giữa câu, nên cần biến bool t để đánh dấu. False - đầu câu, True - giữa câu\n",
        "      A[0][j] = A[0][j] + 1    # Tương tự\n",
        "      A[0][0] = A[0][0] + 1    #Cộng 1 vào số lượng tag <s>\n",
        "    else: \n",
        "      A[i_][j] =  A[i_][j] + 1 #Cộng 1 vào vị trí tag_pre sẽ chuyển sang tag_now\n",
        "    if i == len(train) - 1: continue  \n",
        "    A[j][0] =  A[j][0] + 1 #Cộng 1 vào số lượng tag j'''\n",
        "    \n",
        "  return A"
      ]
    },
    {
      "cell_type": "code",
      "execution_count": null,
      "metadata": {
        "colab": {
          "base_uri": "https://localhost:8080/",
          "height": 551
        },
        "id": "3ThBZO10A-Fi",
        "outputId": "283d78a7-f76a-4620-caa3-460702b35358"
      },
      "outputs": [
        {
          "output_type": "execute_result",
          "data": {
            "text/plain": [
              "     <s>         A         C        CH         D         E         I  \\\n",
              "<s>  1.0  0.000985  0.000985  0.000985  0.000985  0.986207  0.000985   \n",
              "A    1.0  0.071427  0.053575  0.303508  0.017870  0.107132  0.035723   \n",
              "C    1.0  0.088226  0.000029  0.000029  0.000029  0.000029  0.058827   \n",
              "CH   1.0  0.036591  0.073170  0.000012  0.024398  0.060977  0.000012   \n",
              "D    1.0  0.000077  0.000077  0.000077  0.000077  0.000077  0.000077   \n",
              "E    1.0  0.000020  0.000020  0.000020  0.081628  0.020422  0.000020   \n",
              "I    1.0  0.099950  0.000100  0.499351  0.000100  0.000100  0.000100   \n",
              "M    1.0  0.000067  0.000067  0.000067  0.000067  0.000067  0.000067   \n",
              "N    1.0  0.164697  0.082352  0.158815  0.005888  0.058824  0.023533   \n",
              "Nc   1.0  0.000166  0.000166  0.000166  0.000166  0.000166  0.000166   \n",
              "Np   1.0  0.000143  0.000143  0.570349  0.000143  0.142694  0.000143   \n",
              "P    1.0  0.047626  0.000024  0.142830  0.000024  0.071427  0.000024   \n",
              "R    1.0  0.083328  0.041674  0.124982  0.041674  0.000021  0.020848   \n",
              "V    1.0  0.076388  0.062500  0.124994  0.020838  0.152769  0.006951   \n",
              "X    1.0  0.000249  0.000249  0.000249  0.000249  0.000249  0.000249   \n",
              "Z    1.0  0.000985  0.000985  0.000985  0.000985  0.000985  0.000985   \n",
              "\n",
              "            M         N        Nc        Np         P         R         V  \\\n",
              "<s>  0.000985  0.000985  0.000985  0.000985  0.000985  0.000985  0.000985   \n",
              "A    0.000018  0.160689  0.000018  0.000018  0.053575  0.107132  0.089280   \n",
              "C    0.029428  0.205821  0.000029  0.000029  0.117625  0.176422  0.323416   \n",
              "CH   0.012205  0.353606  0.036591  0.012205  0.134134  0.085362  0.158520   \n",
              "D    0.076911  0.691587  0.076911  0.000077  0.153746  0.000077  0.000077   \n",
              "E    0.020422  0.612078  0.000020  0.040824  0.142834  0.020422  0.061226   \n",
              "I    0.000100  0.099950  0.000100  0.000100  0.099950  0.000100  0.199800   \n",
              "M    0.000067  0.799267  0.133267  0.000067  0.000067  0.000067  0.000067   \n",
              "N    0.017651  0.123524  0.000006  0.023533  0.029415  0.047061  0.252925   \n",
              "Nc   0.000166  0.665170  0.000166  0.000166  0.000166  0.000166  0.332668   \n",
              "Np   0.000143  0.000143  0.000143  0.000143  0.000143  0.000143  0.285246   \n",
              "P    0.000024  0.071427  0.000024  0.000024  0.095228  0.214233  0.333238   \n",
              "R    0.041674  0.041674  0.000021  0.000021  0.000021  0.041674  0.562345   \n",
              "V    0.041669  0.277756  0.000007  0.000007  0.027782  0.062500  0.145825   \n",
              "X    0.000249  0.498381  0.000249  0.000249  0.249315  0.000249  0.249315   \n",
              "Z    0.000985  0.986207  0.000985  0.000985  0.000985  0.000985  0.000985   \n",
              "\n",
              "            X         Z  \n",
              "<s>  0.000985  0.000985  \n",
              "A    0.000018  0.000018  \n",
              "C    0.000029  0.000029  \n",
              "CH   0.012205  0.000012  \n",
              "D    0.000077  0.000077  \n",
              "E    0.000020  0.000020  \n",
              "I    0.000100  0.000100  \n",
              "M    0.066667  0.000067  \n",
              "N    0.005888  0.005888  \n",
              "Nc   0.000166  0.000166  \n",
              "Np   0.000143  0.000143  \n",
              "P    0.023825  0.000024  \n",
              "R    0.000021  0.000021  \n",
              "V    0.000007  0.000007  \n",
              "X    0.000249  0.000249  \n",
              "Z    0.000985  0.000985  "
            ],
            "text/html": [
              "\n",
              "  <div id=\"df-8a8eef77-861b-4bcb-bb07-e95b59f21c40\">\n",
              "    <div class=\"colab-df-container\">\n",
              "      <div>\n",
              "<style scoped>\n",
              "    .dataframe tbody tr th:only-of-type {\n",
              "        vertical-align: middle;\n",
              "    }\n",
              "\n",
              "    .dataframe tbody tr th {\n",
              "        vertical-align: top;\n",
              "    }\n",
              "\n",
              "    .dataframe thead th {\n",
              "        text-align: right;\n",
              "    }\n",
              "</style>\n",
              "<table border=\"1\" class=\"dataframe\">\n",
              "  <thead>\n",
              "    <tr style=\"text-align: right;\">\n",
              "      <th></th>\n",
              "      <th>&lt;s&gt;</th>\n",
              "      <th>A</th>\n",
              "      <th>C</th>\n",
              "      <th>CH</th>\n",
              "      <th>D</th>\n",
              "      <th>E</th>\n",
              "      <th>I</th>\n",
              "      <th>M</th>\n",
              "      <th>N</th>\n",
              "      <th>Nc</th>\n",
              "      <th>Np</th>\n",
              "      <th>P</th>\n",
              "      <th>R</th>\n",
              "      <th>V</th>\n",
              "      <th>X</th>\n",
              "      <th>Z</th>\n",
              "    </tr>\n",
              "  </thead>\n",
              "  <tbody>\n",
              "    <tr>\n",
              "      <th>&lt;s&gt;</th>\n",
              "      <td>1.0</td>\n",
              "      <td>0.000985</td>\n",
              "      <td>0.000985</td>\n",
              "      <td>0.000985</td>\n",
              "      <td>0.000985</td>\n",
              "      <td>0.986207</td>\n",
              "      <td>0.000985</td>\n",
              "      <td>0.000985</td>\n",
              "      <td>0.000985</td>\n",
              "      <td>0.000985</td>\n",
              "      <td>0.000985</td>\n",
              "      <td>0.000985</td>\n",
              "      <td>0.000985</td>\n",
              "      <td>0.000985</td>\n",
              "      <td>0.000985</td>\n",
              "      <td>0.000985</td>\n",
              "    </tr>\n",
              "    <tr>\n",
              "      <th>A</th>\n",
              "      <td>1.0</td>\n",
              "      <td>0.071427</td>\n",
              "      <td>0.053575</td>\n",
              "      <td>0.303508</td>\n",
              "      <td>0.017870</td>\n",
              "      <td>0.107132</td>\n",
              "      <td>0.035723</td>\n",
              "      <td>0.000018</td>\n",
              "      <td>0.160689</td>\n",
              "      <td>0.000018</td>\n",
              "      <td>0.000018</td>\n",
              "      <td>0.053575</td>\n",
              "      <td>0.107132</td>\n",
              "      <td>0.089280</td>\n",
              "      <td>0.000018</td>\n",
              "      <td>0.000018</td>\n",
              "    </tr>\n",
              "    <tr>\n",
              "      <th>C</th>\n",
              "      <td>1.0</td>\n",
              "      <td>0.088226</td>\n",
              "      <td>0.000029</td>\n",
              "      <td>0.000029</td>\n",
              "      <td>0.000029</td>\n",
              "      <td>0.000029</td>\n",
              "      <td>0.058827</td>\n",
              "      <td>0.029428</td>\n",
              "      <td>0.205821</td>\n",
              "      <td>0.000029</td>\n",
              "      <td>0.000029</td>\n",
              "      <td>0.117625</td>\n",
              "      <td>0.176422</td>\n",
              "      <td>0.323416</td>\n",
              "      <td>0.000029</td>\n",
              "      <td>0.000029</td>\n",
              "    </tr>\n",
              "    <tr>\n",
              "      <th>CH</th>\n",
              "      <td>1.0</td>\n",
              "      <td>0.036591</td>\n",
              "      <td>0.073170</td>\n",
              "      <td>0.000012</td>\n",
              "      <td>0.024398</td>\n",
              "      <td>0.060977</td>\n",
              "      <td>0.000012</td>\n",
              "      <td>0.012205</td>\n",
              "      <td>0.353606</td>\n",
              "      <td>0.036591</td>\n",
              "      <td>0.012205</td>\n",
              "      <td>0.134134</td>\n",
              "      <td>0.085362</td>\n",
              "      <td>0.158520</td>\n",
              "      <td>0.012205</td>\n",
              "      <td>0.000012</td>\n",
              "    </tr>\n",
              "    <tr>\n",
              "      <th>D</th>\n",
              "      <td>1.0</td>\n",
              "      <td>0.000077</td>\n",
              "      <td>0.000077</td>\n",
              "      <td>0.000077</td>\n",
              "      <td>0.000077</td>\n",
              "      <td>0.000077</td>\n",
              "      <td>0.000077</td>\n",
              "      <td>0.076911</td>\n",
              "      <td>0.691587</td>\n",
              "      <td>0.076911</td>\n",
              "      <td>0.000077</td>\n",
              "      <td>0.153746</td>\n",
              "      <td>0.000077</td>\n",
              "      <td>0.000077</td>\n",
              "      <td>0.000077</td>\n",
              "      <td>0.000077</td>\n",
              "    </tr>\n",
              "    <tr>\n",
              "      <th>E</th>\n",
              "      <td>1.0</td>\n",
              "      <td>0.000020</td>\n",
              "      <td>0.000020</td>\n",
              "      <td>0.000020</td>\n",
              "      <td>0.081628</td>\n",
              "      <td>0.020422</td>\n",
              "      <td>0.000020</td>\n",
              "      <td>0.020422</td>\n",
              "      <td>0.612078</td>\n",
              "      <td>0.000020</td>\n",
              "      <td>0.040824</td>\n",
              "      <td>0.142834</td>\n",
              "      <td>0.020422</td>\n",
              "      <td>0.061226</td>\n",
              "      <td>0.000020</td>\n",
              "      <td>0.000020</td>\n",
              "    </tr>\n",
              "    <tr>\n",
              "      <th>I</th>\n",
              "      <td>1.0</td>\n",
              "      <td>0.099950</td>\n",
              "      <td>0.000100</td>\n",
              "      <td>0.499351</td>\n",
              "      <td>0.000100</td>\n",
              "      <td>0.000100</td>\n",
              "      <td>0.000100</td>\n",
              "      <td>0.000100</td>\n",
              "      <td>0.099950</td>\n",
              "      <td>0.000100</td>\n",
              "      <td>0.000100</td>\n",
              "      <td>0.099950</td>\n",
              "      <td>0.000100</td>\n",
              "      <td>0.199800</td>\n",
              "      <td>0.000100</td>\n",
              "      <td>0.000100</td>\n",
              "    </tr>\n",
              "    <tr>\n",
              "      <th>M</th>\n",
              "      <td>1.0</td>\n",
              "      <td>0.000067</td>\n",
              "      <td>0.000067</td>\n",
              "      <td>0.000067</td>\n",
              "      <td>0.000067</td>\n",
              "      <td>0.000067</td>\n",
              "      <td>0.000067</td>\n",
              "      <td>0.000067</td>\n",
              "      <td>0.799267</td>\n",
              "      <td>0.133267</td>\n",
              "      <td>0.000067</td>\n",
              "      <td>0.000067</td>\n",
              "      <td>0.000067</td>\n",
              "      <td>0.000067</td>\n",
              "      <td>0.066667</td>\n",
              "      <td>0.000067</td>\n",
              "    </tr>\n",
              "    <tr>\n",
              "      <th>N</th>\n",
              "      <td>1.0</td>\n",
              "      <td>0.164697</td>\n",
              "      <td>0.082352</td>\n",
              "      <td>0.158815</td>\n",
              "      <td>0.005888</td>\n",
              "      <td>0.058824</td>\n",
              "      <td>0.023533</td>\n",
              "      <td>0.017651</td>\n",
              "      <td>0.123524</td>\n",
              "      <td>0.000006</td>\n",
              "      <td>0.023533</td>\n",
              "      <td>0.029415</td>\n",
              "      <td>0.047061</td>\n",
              "      <td>0.252925</td>\n",
              "      <td>0.005888</td>\n",
              "      <td>0.005888</td>\n",
              "    </tr>\n",
              "    <tr>\n",
              "      <th>Nc</th>\n",
              "      <td>1.0</td>\n",
              "      <td>0.000166</td>\n",
              "      <td>0.000166</td>\n",
              "      <td>0.000166</td>\n",
              "      <td>0.000166</td>\n",
              "      <td>0.000166</td>\n",
              "      <td>0.000166</td>\n",
              "      <td>0.000166</td>\n",
              "      <td>0.665170</td>\n",
              "      <td>0.000166</td>\n",
              "      <td>0.000166</td>\n",
              "      <td>0.000166</td>\n",
              "      <td>0.000166</td>\n",
              "      <td>0.332668</td>\n",
              "      <td>0.000166</td>\n",
              "      <td>0.000166</td>\n",
              "    </tr>\n",
              "    <tr>\n",
              "      <th>Np</th>\n",
              "      <td>1.0</td>\n",
              "      <td>0.000143</td>\n",
              "      <td>0.000143</td>\n",
              "      <td>0.570349</td>\n",
              "      <td>0.000143</td>\n",
              "      <td>0.142694</td>\n",
              "      <td>0.000143</td>\n",
              "      <td>0.000143</td>\n",
              "      <td>0.000143</td>\n",
              "      <td>0.000143</td>\n",
              "      <td>0.000143</td>\n",
              "      <td>0.000143</td>\n",
              "      <td>0.000143</td>\n",
              "      <td>0.285246</td>\n",
              "      <td>0.000143</td>\n",
              "      <td>0.000143</td>\n",
              "    </tr>\n",
              "    <tr>\n",
              "      <th>P</th>\n",
              "      <td>1.0</td>\n",
              "      <td>0.047626</td>\n",
              "      <td>0.000024</td>\n",
              "      <td>0.142830</td>\n",
              "      <td>0.000024</td>\n",
              "      <td>0.071427</td>\n",
              "      <td>0.000024</td>\n",
              "      <td>0.000024</td>\n",
              "      <td>0.071427</td>\n",
              "      <td>0.000024</td>\n",
              "      <td>0.000024</td>\n",
              "      <td>0.095228</td>\n",
              "      <td>0.214233</td>\n",
              "      <td>0.333238</td>\n",
              "      <td>0.023825</td>\n",
              "      <td>0.000024</td>\n",
              "    </tr>\n",
              "    <tr>\n",
              "      <th>R</th>\n",
              "      <td>1.0</td>\n",
              "      <td>0.083328</td>\n",
              "      <td>0.041674</td>\n",
              "      <td>0.124982</td>\n",
              "      <td>0.041674</td>\n",
              "      <td>0.000021</td>\n",
              "      <td>0.020848</td>\n",
              "      <td>0.041674</td>\n",
              "      <td>0.041674</td>\n",
              "      <td>0.000021</td>\n",
              "      <td>0.000021</td>\n",
              "      <td>0.000021</td>\n",
              "      <td>0.041674</td>\n",
              "      <td>0.562345</td>\n",
              "      <td>0.000021</td>\n",
              "      <td>0.000021</td>\n",
              "    </tr>\n",
              "    <tr>\n",
              "      <th>V</th>\n",
              "      <td>1.0</td>\n",
              "      <td>0.076388</td>\n",
              "      <td>0.062500</td>\n",
              "      <td>0.124994</td>\n",
              "      <td>0.020838</td>\n",
              "      <td>0.152769</td>\n",
              "      <td>0.006951</td>\n",
              "      <td>0.041669</td>\n",
              "      <td>0.277756</td>\n",
              "      <td>0.000007</td>\n",
              "      <td>0.000007</td>\n",
              "      <td>0.027782</td>\n",
              "      <td>0.062500</td>\n",
              "      <td>0.145825</td>\n",
              "      <td>0.000007</td>\n",
              "      <td>0.000007</td>\n",
              "    </tr>\n",
              "    <tr>\n",
              "      <th>X</th>\n",
              "      <td>1.0</td>\n",
              "      <td>0.000249</td>\n",
              "      <td>0.000249</td>\n",
              "      <td>0.000249</td>\n",
              "      <td>0.000249</td>\n",
              "      <td>0.000249</td>\n",
              "      <td>0.000249</td>\n",
              "      <td>0.000249</td>\n",
              "      <td>0.498381</td>\n",
              "      <td>0.000249</td>\n",
              "      <td>0.000249</td>\n",
              "      <td>0.249315</td>\n",
              "      <td>0.000249</td>\n",
              "      <td>0.249315</td>\n",
              "      <td>0.000249</td>\n",
              "      <td>0.000249</td>\n",
              "    </tr>\n",
              "    <tr>\n",
              "      <th>Z</th>\n",
              "      <td>1.0</td>\n",
              "      <td>0.000985</td>\n",
              "      <td>0.000985</td>\n",
              "      <td>0.000985</td>\n",
              "      <td>0.000985</td>\n",
              "      <td>0.000985</td>\n",
              "      <td>0.000985</td>\n",
              "      <td>0.000985</td>\n",
              "      <td>0.986207</td>\n",
              "      <td>0.000985</td>\n",
              "      <td>0.000985</td>\n",
              "      <td>0.000985</td>\n",
              "      <td>0.000985</td>\n",
              "      <td>0.000985</td>\n",
              "      <td>0.000985</td>\n",
              "      <td>0.000985</td>\n",
              "    </tr>\n",
              "  </tbody>\n",
              "</table>\n",
              "</div>\n",
              "      <button class=\"colab-df-convert\" onclick=\"convertToInteractive('df-8a8eef77-861b-4bcb-bb07-e95b59f21c40')\"\n",
              "              title=\"Convert this dataframe to an interactive table.\"\n",
              "              style=\"display:none;\">\n",
              "        \n",
              "  <svg xmlns=\"http://www.w3.org/2000/svg\" height=\"24px\"viewBox=\"0 0 24 24\"\n",
              "       width=\"24px\">\n",
              "    <path d=\"M0 0h24v24H0V0z\" fill=\"none\"/>\n",
              "    <path d=\"M18.56 5.44l.94 2.06.94-2.06 2.06-.94-2.06-.94-.94-2.06-.94 2.06-2.06.94zm-11 1L8.5 8.5l.94-2.06 2.06-.94-2.06-.94L8.5 2.5l-.94 2.06-2.06.94zm10 10l.94 2.06.94-2.06 2.06-.94-2.06-.94-.94-2.06-.94 2.06-2.06.94z\"/><path d=\"M17.41 7.96l-1.37-1.37c-.4-.4-.92-.59-1.43-.59-.52 0-1.04.2-1.43.59L10.3 9.45l-7.72 7.72c-.78.78-.78 2.05 0 2.83L4 21.41c.39.39.9.59 1.41.59.51 0 1.02-.2 1.41-.59l7.78-7.78 2.81-2.81c.8-.78.8-2.07 0-2.86zM5.41 20L4 18.59l7.72-7.72 1.47 1.35L5.41 20z\"/>\n",
              "  </svg>\n",
              "      </button>\n",
              "      \n",
              "  <style>\n",
              "    .colab-df-container {\n",
              "      display:flex;\n",
              "      flex-wrap:wrap;\n",
              "      gap: 12px;\n",
              "    }\n",
              "\n",
              "    .colab-df-convert {\n",
              "      background-color: #E8F0FE;\n",
              "      border: none;\n",
              "      border-radius: 50%;\n",
              "      cursor: pointer;\n",
              "      display: none;\n",
              "      fill: #1967D2;\n",
              "      height: 32px;\n",
              "      padding: 0 0 0 0;\n",
              "      width: 32px;\n",
              "    }\n",
              "\n",
              "    .colab-df-convert:hover {\n",
              "      background-color: #E2EBFA;\n",
              "      box-shadow: 0px 1px 2px rgba(60, 64, 67, 0.3), 0px 1px 3px 1px rgba(60, 64, 67, 0.15);\n",
              "      fill: #174EA6;\n",
              "    }\n",
              "\n",
              "    [theme=dark] .colab-df-convert {\n",
              "      background-color: #3B4455;\n",
              "      fill: #D2E3FC;\n",
              "    }\n",
              "\n",
              "    [theme=dark] .colab-df-convert:hover {\n",
              "      background-color: #434B5C;\n",
              "      box-shadow: 0px 1px 3px 1px rgba(0, 0, 0, 0.15);\n",
              "      filter: drop-shadow(0px 1px 2px rgba(0, 0, 0, 0.3));\n",
              "      fill: #FFFFFF;\n",
              "    }\n",
              "  </style>\n",
              "\n",
              "      <script>\n",
              "        const buttonEl =\n",
              "          document.querySelector('#df-8a8eef77-861b-4bcb-bb07-e95b59f21c40 button.colab-df-convert');\n",
              "        buttonEl.style.display =\n",
              "          google.colab.kernel.accessAllowed ? 'block' : 'none';\n",
              "\n",
              "        async function convertToInteractive(key) {\n",
              "          const element = document.querySelector('#df-8a8eef77-861b-4bcb-bb07-e95b59f21c40');\n",
              "          const dataTable =\n",
              "            await google.colab.kernel.invokeFunction('convertToInteractive',\n",
              "                                                     [key], {});\n",
              "          if (!dataTable) return;\n",
              "\n",
              "          const docLinkHtml = 'Like what you see? Visit the ' +\n",
              "            '<a target=\"_blank\" href=https://colab.research.google.com/notebooks/data_table.ipynb>data table notebook</a>'\n",
              "            + ' to learn more about interactive tables.';\n",
              "          element.innerHTML = '';\n",
              "          dataTable['output_type'] = 'display_data';\n",
              "          await google.colab.output.renderOutput(dataTable, element);\n",
              "          const docLink = document.createElement('div');\n",
              "          docLink.innerHTML = docLinkHtml;\n",
              "          element.appendChild(docLink);\n",
              "        }\n",
              "      </script>\n",
              "    </div>\n",
              "  </div>\n",
              "  "
            ]
          },
          "metadata": {},
          "execution_count": 275
        }
      ],
      "source": [
        "A = matrix_status(data_train_label,tag) #Ma trận số lượng các postag\n",
        "\n",
        "laplace = 0.001\n",
        "A[:,0] = A[:,0] + laplace * (len(tag)-1) # Điều chỉnh tần số \n",
        "A[:,1:] = A[:,1:] + laplace\n",
        "for i in range(0,len(tag)): # Tính xác suất smoothing\n",
        "  A[i,:] = A[i,:] / A[i,0]\n",
        "\n",
        "df = pd.DataFrame(\n",
        "    A[:,:], \n",
        "    index = tag, \n",
        "    columns = tag\n",
        ")\n",
        "df\n"
      ]
    },
    {
      "cell_type": "markdown",
      "metadata": {
        "id": "jfLegfCBuWjE"
      },
      "source": [
        "Phân tích rõ hơn idea của ma trận A\n",
        "\n",
        "Ví dụ cụ thể xác suất chuyển trạng thái: \n",
        "\n",
        "  - Vị trí A[1,1] = 0.07, đó là xác suất mà một nhãn A sẽ chuyển sang một nhãn A khác\n",
        "\n",
        "  - Vị trí A[1,2] = 0.05, xác suất mà nhãn A sẽ chuyển sang nhãn C\n",
        "\n",
        "--> Xác suất mà một nhãn i sẽ chuyển sang nhãn j\n",
        "\n",
        "\n"
      ]
    },
    {
      "cell_type": "markdown",
      "metadata": {
        "id": "xqBvns_LsPAV"
      },
      "source": [
        "**Ma trận thể hiện B**\n",
        "\n",
        " - **Ý nghĩa**: xác suất mà một từ trong câu mang postag tương ứng\n",
        "\n",
        "**Bước 1**: Khởi tạo ma trận B với kích thước tag x vocabs ( giá trị 0 )\n",
        "\n",
        "**Bước 2**: Duyệt các từ trong bộ dữ liệu train -> lấy postag của từ đó\n",
        "\n",
        "**Bước 3**: Cộng 1 vào vị trí postag tương ứng\n",
        "\n",
        "**Bước 4**: Cộng Laplace và tính xác suất như ma trận A"
      ]
    },
    {
      "cell_type": "code",
      "execution_count": null,
      "metadata": {
        "id": "z86sD_iKj4I1"
      },
      "outputs": [],
      "source": [
        "def matrix_emisson(train,tag, vocabs): #input là tập train, tag và một bộ từ điển vocabs\n",
        "\n",
        "  B = np.zeros((len(tag),len(vocabs))) #tạo ma trận B, thêm 1 cột cuối cùng để tính số lượng\n",
        "  for i in range(0,len(train)):\n",
        "     if train[i] == '\\n' : continue # nếu nó là \\n thì skip\n",
        "     word_current, tag_current = train[i].split() #tách lấy từ và tag\n",
        "     \n",
        "     if word_current+'\\n' not in vocabs: #nếu từ đó không có trong bộ từ điển, thì nó sẽ là từ unk\n",
        "       if (word_current[0].lower() + word_current[1:] + '\\n') in vocabs:\n",
        "         word_current =  word_current[0].lower() + word_current[1:]\n",
        "         index_in_vocabs = vocabs.index(word_current+'\\n')\n",
        "       else:  \n",
        "         index_in_vocabs = vocabs.index('--unk--\\n')\n",
        "     else:\n",
        "        index_in_vocabs = vocabs.index(word_current+'\\n') #lấy vị trí của nó trong bộ từ điển\n",
        "     B[tag.index(tag_current)][index_in_vocabs] =B[tag.index(tag_current)][index_in_vocabs] + 1 #Cộng 1 vào vị trí tương ứng trong ma trận B\n",
        "     B[tag.index(tag_current)][-1] = B[tag.index(tag_current)][-1] + 1 # Cộng 1 vào cột số lượng postag'''\n",
        "  return B\n"
      ]
    },
    {
      "cell_type": "code",
      "execution_count": null,
      "metadata": {
        "colab": {
          "base_uri": "https://localhost:8080/",
          "height": 644
        },
        "id": "28I1FpOHLF-c",
        "outputId": "38851341-9287-4172-c39c-93ecaacca198"
      },
      "outputs": [
        {
          "output_type": "execute_result",
          "data": {
            "text/plain": [
              "          '\\n      ''\\n       -\\n      --\\n       !\\n       \"\\n       #\\n  \\\n",
              "<s>  0.000018  0.000018  0.000018  0.000018  0.000018  0.000018  0.000018   \n",
              "A    0.000009  0.000009  0.000009  0.000009  0.000009  0.000009  0.000009   \n",
              "C    0.000011  0.000011  0.000011  0.000011  0.000011  0.000011  0.000011   \n",
              "CH   0.000007  0.000007  0.000007  0.000007  0.007250  0.000007  0.000007   \n",
              "D    0.000015  0.000015  0.000015  0.000015  0.000015  0.000015  0.000015   \n",
              "E    0.000010  0.000010  0.000010  0.000010  0.000010  0.000010  0.000010   \n",
              "I    0.000015  0.000015  0.000015  0.000015  0.000015  0.000015  0.000015   \n",
              "M    0.000014  0.000014  0.000014  0.000014  0.000014  0.000014  0.000014   \n",
              "N    0.000004  0.000004  0.000004  0.000004  0.000004  0.000004  0.000004   \n",
              "Nc   0.000016  0.000016  0.000016  0.000016  0.000016  0.000016  0.000016   \n",
              "Np   0.000016  0.000016  0.000016  0.000016  0.000016  0.000016  0.000016   \n",
              "P    0.000010  0.000010  0.000010  0.000010  0.000010  0.000010  0.000010   \n",
              "R    0.000010  0.000010  0.000010  0.000010  0.000010  0.000010  0.000010   \n",
              "V    0.000005  0.000005  0.000005  0.000005  0.000005  0.000005  0.000005   \n",
              "X    0.000017  0.000017  0.000017  0.000017  0.000017  0.000017  0.000017   \n",
              "Z    0.000018  0.000018  0.000018  0.000018  0.000018  0.000018  0.000018   \n",
              "\n",
              "          $\\n       %\\n       &\\n  ...    zone\\n    Zone\\n   zones\\n  \\\n",
              "<s>  0.000018  0.000018  0.000018  ...  0.000018  0.000018  0.000018   \n",
              "A    0.000009  0.000009  0.000009  ...  0.000009  0.000009  0.000009   \n",
              "C    0.000011  0.000011  0.000011  ...  0.000011  0.000011  0.000011   \n",
              "CH   0.000007  0.000007  0.000007  ...  0.000007  0.000007  0.000007   \n",
              "D    0.000015  0.000015  0.000015  ...  0.000015  0.000015  0.000015   \n",
              "E    0.000010  0.000010  0.000010  ...  0.000010  0.000010  0.000010   \n",
              "I    0.000015  0.000015  0.000015  ...  0.000015  0.000015  0.000015   \n",
              "M    0.000014  0.000014  0.000014  ...  0.000014  0.000014  0.000014   \n",
              "N    0.000004  0.000004  0.000004  ...  0.000004  0.000004  0.000004   \n",
              "Nc   0.000016  0.000016  0.000016  ...  0.000016  0.000016  0.000016   \n",
              "Np   0.000016  0.000016  0.000016  ...  0.000016  0.000016  0.000016   \n",
              "P    0.000010  0.000010  0.000010  ...  0.000010  0.000010  0.000010   \n",
              "R    0.000010  0.000010  0.000010  ...  0.000010  0.000010  0.000010   \n",
              "V    0.000005  0.000005  0.000005  ...  0.000005  0.000005  0.000005   \n",
              "X    0.000017  0.000017  0.000017  ...  0.000017  0.000017  0.000017   \n",
              "Z    0.000018  0.000018  0.000018  ...  0.000018  0.000018  0.000018   \n",
              "\n",
              "      Zones\\n  zoning\\n     Zsa\\n    Zulu\\n  Zurich\\n  Zurkuhlen\\n  Zurn  \n",
              "<s>  0.000018  0.000018  0.000018  0.000018  0.000018     0.000018   1.0  \n",
              "A    0.000009  0.000009  0.000009  0.000009  0.000009     0.000009   1.0  \n",
              "C    0.000011  0.000011  0.000011  0.000011  0.000011     0.000011   1.0  \n",
              "CH   0.000007  0.000007  0.000007  0.000007  0.000007     0.000007   1.0  \n",
              "D    0.000015  0.000015  0.000015  0.000015  0.000015     0.000015   1.0  \n",
              "E    0.000010  0.000010  0.000010  0.000010  0.000010     0.000010   1.0  \n",
              "I    0.000015  0.000015  0.000015  0.000015  0.000015     0.000015   1.0  \n",
              "M    0.000014  0.000014  0.000014  0.000014  0.000014     0.000014   1.0  \n",
              "N    0.000004  0.000004  0.000004  0.000004  0.000004     0.000004   1.0  \n",
              "Nc   0.000016  0.000016  0.000016  0.000016  0.000016     0.000016   1.0  \n",
              "Np   0.000016  0.000016  0.000016  0.000016  0.000016     0.000016   1.0  \n",
              "P    0.000010  0.000010  0.000010  0.000010  0.000010     0.000010   1.0  \n",
              "R    0.000010  0.000010  0.000010  0.000010  0.000010     0.000010   1.0  \n",
              "V    0.000005  0.000005  0.000005  0.000005  0.000005     0.000005   1.0  \n",
              "X    0.000017  0.000017  0.000017  0.000017  0.000017     0.000017   1.0  \n",
              "Z    0.000018  0.000018  0.000018  0.000018  0.000018     0.000018   1.0  \n",
              "\n",
              "[16 rows x 55070 columns]"
            ],
            "text/html": [
              "\n",
              "  <div id=\"df-0b8622fe-78a2-4c7c-91ec-7472048fda3c\">\n",
              "    <div class=\"colab-df-container\">\n",
              "      <div>\n",
              "<style scoped>\n",
              "    .dataframe tbody tr th:only-of-type {\n",
              "        vertical-align: middle;\n",
              "    }\n",
              "\n",
              "    .dataframe tbody tr th {\n",
              "        vertical-align: top;\n",
              "    }\n",
              "\n",
              "    .dataframe thead th {\n",
              "        text-align: right;\n",
              "    }\n",
              "</style>\n",
              "<table border=\"1\" class=\"dataframe\">\n",
              "  <thead>\n",
              "    <tr style=\"text-align: right;\">\n",
              "      <th></th>\n",
              "      <th>'\\n</th>\n",
              "      <th>''\\n</th>\n",
              "      <th>-\\n</th>\n",
              "      <th>--\\n</th>\n",
              "      <th>!\\n</th>\n",
              "      <th>\"\\n</th>\n",
              "      <th>#\\n</th>\n",
              "      <th>$\\n</th>\n",
              "      <th>%\\n</th>\n",
              "      <th>&amp;\\n</th>\n",
              "      <th>...</th>\n",
              "      <th>zone\\n</th>\n",
              "      <th>Zone\\n</th>\n",
              "      <th>zones\\n</th>\n",
              "      <th>Zones\\n</th>\n",
              "      <th>zoning\\n</th>\n",
              "      <th>Zsa\\n</th>\n",
              "      <th>Zulu\\n</th>\n",
              "      <th>Zurich\\n</th>\n",
              "      <th>Zurkuhlen\\n</th>\n",
              "      <th>Zurn</th>\n",
              "    </tr>\n",
              "  </thead>\n",
              "  <tbody>\n",
              "    <tr>\n",
              "      <th>&lt;s&gt;</th>\n",
              "      <td>0.000018</td>\n",
              "      <td>0.000018</td>\n",
              "      <td>0.000018</td>\n",
              "      <td>0.000018</td>\n",
              "      <td>0.000018</td>\n",
              "      <td>0.000018</td>\n",
              "      <td>0.000018</td>\n",
              "      <td>0.000018</td>\n",
              "      <td>0.000018</td>\n",
              "      <td>0.000018</td>\n",
              "      <td>...</td>\n",
              "      <td>0.000018</td>\n",
              "      <td>0.000018</td>\n",
              "      <td>0.000018</td>\n",
              "      <td>0.000018</td>\n",
              "      <td>0.000018</td>\n",
              "      <td>0.000018</td>\n",
              "      <td>0.000018</td>\n",
              "      <td>0.000018</td>\n",
              "      <td>0.000018</td>\n",
              "      <td>1.0</td>\n",
              "    </tr>\n",
              "    <tr>\n",
              "      <th>A</th>\n",
              "      <td>0.000009</td>\n",
              "      <td>0.000009</td>\n",
              "      <td>0.000009</td>\n",
              "      <td>0.000009</td>\n",
              "      <td>0.000009</td>\n",
              "      <td>0.000009</td>\n",
              "      <td>0.000009</td>\n",
              "      <td>0.000009</td>\n",
              "      <td>0.000009</td>\n",
              "      <td>0.000009</td>\n",
              "      <td>...</td>\n",
              "      <td>0.000009</td>\n",
              "      <td>0.000009</td>\n",
              "      <td>0.000009</td>\n",
              "      <td>0.000009</td>\n",
              "      <td>0.000009</td>\n",
              "      <td>0.000009</td>\n",
              "      <td>0.000009</td>\n",
              "      <td>0.000009</td>\n",
              "      <td>0.000009</td>\n",
              "      <td>1.0</td>\n",
              "    </tr>\n",
              "    <tr>\n",
              "      <th>C</th>\n",
              "      <td>0.000011</td>\n",
              "      <td>0.000011</td>\n",
              "      <td>0.000011</td>\n",
              "      <td>0.000011</td>\n",
              "      <td>0.000011</td>\n",
              "      <td>0.000011</td>\n",
              "      <td>0.000011</td>\n",
              "      <td>0.000011</td>\n",
              "      <td>0.000011</td>\n",
              "      <td>0.000011</td>\n",
              "      <td>...</td>\n",
              "      <td>0.000011</td>\n",
              "      <td>0.000011</td>\n",
              "      <td>0.000011</td>\n",
              "      <td>0.000011</td>\n",
              "      <td>0.000011</td>\n",
              "      <td>0.000011</td>\n",
              "      <td>0.000011</td>\n",
              "      <td>0.000011</td>\n",
              "      <td>0.000011</td>\n",
              "      <td>1.0</td>\n",
              "    </tr>\n",
              "    <tr>\n",
              "      <th>CH</th>\n",
              "      <td>0.000007</td>\n",
              "      <td>0.000007</td>\n",
              "      <td>0.000007</td>\n",
              "      <td>0.000007</td>\n",
              "      <td>0.007250</td>\n",
              "      <td>0.000007</td>\n",
              "      <td>0.000007</td>\n",
              "      <td>0.000007</td>\n",
              "      <td>0.000007</td>\n",
              "      <td>0.000007</td>\n",
              "      <td>...</td>\n",
              "      <td>0.000007</td>\n",
              "      <td>0.000007</td>\n",
              "      <td>0.000007</td>\n",
              "      <td>0.000007</td>\n",
              "      <td>0.000007</td>\n",
              "      <td>0.000007</td>\n",
              "      <td>0.000007</td>\n",
              "      <td>0.000007</td>\n",
              "      <td>0.000007</td>\n",
              "      <td>1.0</td>\n",
              "    </tr>\n",
              "    <tr>\n",
              "      <th>D</th>\n",
              "      <td>0.000015</td>\n",
              "      <td>0.000015</td>\n",
              "      <td>0.000015</td>\n",
              "      <td>0.000015</td>\n",
              "      <td>0.000015</td>\n",
              "      <td>0.000015</td>\n",
              "      <td>0.000015</td>\n",
              "      <td>0.000015</td>\n",
              "      <td>0.000015</td>\n",
              "      <td>0.000015</td>\n",
              "      <td>...</td>\n",
              "      <td>0.000015</td>\n",
              "      <td>0.000015</td>\n",
              "      <td>0.000015</td>\n",
              "      <td>0.000015</td>\n",
              "      <td>0.000015</td>\n",
              "      <td>0.000015</td>\n",
              "      <td>0.000015</td>\n",
              "      <td>0.000015</td>\n",
              "      <td>0.000015</td>\n",
              "      <td>1.0</td>\n",
              "    </tr>\n",
              "    <tr>\n",
              "      <th>E</th>\n",
              "      <td>0.000010</td>\n",
              "      <td>0.000010</td>\n",
              "      <td>0.000010</td>\n",
              "      <td>0.000010</td>\n",
              "      <td>0.000010</td>\n",
              "      <td>0.000010</td>\n",
              "      <td>0.000010</td>\n",
              "      <td>0.000010</td>\n",
              "      <td>0.000010</td>\n",
              "      <td>0.000010</td>\n",
              "      <td>...</td>\n",
              "      <td>0.000010</td>\n",
              "      <td>0.000010</td>\n",
              "      <td>0.000010</td>\n",
              "      <td>0.000010</td>\n",
              "      <td>0.000010</td>\n",
              "      <td>0.000010</td>\n",
              "      <td>0.000010</td>\n",
              "      <td>0.000010</td>\n",
              "      <td>0.000010</td>\n",
              "      <td>1.0</td>\n",
              "    </tr>\n",
              "    <tr>\n",
              "      <th>I</th>\n",
              "      <td>0.000015</td>\n",
              "      <td>0.000015</td>\n",
              "      <td>0.000015</td>\n",
              "      <td>0.000015</td>\n",
              "      <td>0.000015</td>\n",
              "      <td>0.000015</td>\n",
              "      <td>0.000015</td>\n",
              "      <td>0.000015</td>\n",
              "      <td>0.000015</td>\n",
              "      <td>0.000015</td>\n",
              "      <td>...</td>\n",
              "      <td>0.000015</td>\n",
              "      <td>0.000015</td>\n",
              "      <td>0.000015</td>\n",
              "      <td>0.000015</td>\n",
              "      <td>0.000015</td>\n",
              "      <td>0.000015</td>\n",
              "      <td>0.000015</td>\n",
              "      <td>0.000015</td>\n",
              "      <td>0.000015</td>\n",
              "      <td>1.0</td>\n",
              "    </tr>\n",
              "    <tr>\n",
              "      <th>M</th>\n",
              "      <td>0.000014</td>\n",
              "      <td>0.000014</td>\n",
              "      <td>0.000014</td>\n",
              "      <td>0.000014</td>\n",
              "      <td>0.000014</td>\n",
              "      <td>0.000014</td>\n",
              "      <td>0.000014</td>\n",
              "      <td>0.000014</td>\n",
              "      <td>0.000014</td>\n",
              "      <td>0.000014</td>\n",
              "      <td>...</td>\n",
              "      <td>0.000014</td>\n",
              "      <td>0.000014</td>\n",
              "      <td>0.000014</td>\n",
              "      <td>0.000014</td>\n",
              "      <td>0.000014</td>\n",
              "      <td>0.000014</td>\n",
              "      <td>0.000014</td>\n",
              "      <td>0.000014</td>\n",
              "      <td>0.000014</td>\n",
              "      <td>1.0</td>\n",
              "    </tr>\n",
              "    <tr>\n",
              "      <th>N</th>\n",
              "      <td>0.000004</td>\n",
              "      <td>0.000004</td>\n",
              "      <td>0.000004</td>\n",
              "      <td>0.000004</td>\n",
              "      <td>0.000004</td>\n",
              "      <td>0.000004</td>\n",
              "      <td>0.000004</td>\n",
              "      <td>0.000004</td>\n",
              "      <td>0.000004</td>\n",
              "      <td>0.000004</td>\n",
              "      <td>...</td>\n",
              "      <td>0.000004</td>\n",
              "      <td>0.000004</td>\n",
              "      <td>0.000004</td>\n",
              "      <td>0.000004</td>\n",
              "      <td>0.000004</td>\n",
              "      <td>0.000004</td>\n",
              "      <td>0.000004</td>\n",
              "      <td>0.000004</td>\n",
              "      <td>0.000004</td>\n",
              "      <td>1.0</td>\n",
              "    </tr>\n",
              "    <tr>\n",
              "      <th>Nc</th>\n",
              "      <td>0.000016</td>\n",
              "      <td>0.000016</td>\n",
              "      <td>0.000016</td>\n",
              "      <td>0.000016</td>\n",
              "      <td>0.000016</td>\n",
              "      <td>0.000016</td>\n",
              "      <td>0.000016</td>\n",
              "      <td>0.000016</td>\n",
              "      <td>0.000016</td>\n",
              "      <td>0.000016</td>\n",
              "      <td>...</td>\n",
              "      <td>0.000016</td>\n",
              "      <td>0.000016</td>\n",
              "      <td>0.000016</td>\n",
              "      <td>0.000016</td>\n",
              "      <td>0.000016</td>\n",
              "      <td>0.000016</td>\n",
              "      <td>0.000016</td>\n",
              "      <td>0.000016</td>\n",
              "      <td>0.000016</td>\n",
              "      <td>1.0</td>\n",
              "    </tr>\n",
              "    <tr>\n",
              "      <th>Np</th>\n",
              "      <td>0.000016</td>\n",
              "      <td>0.000016</td>\n",
              "      <td>0.000016</td>\n",
              "      <td>0.000016</td>\n",
              "      <td>0.000016</td>\n",
              "      <td>0.000016</td>\n",
              "      <td>0.000016</td>\n",
              "      <td>0.000016</td>\n",
              "      <td>0.000016</td>\n",
              "      <td>0.000016</td>\n",
              "      <td>...</td>\n",
              "      <td>0.000016</td>\n",
              "      <td>0.000016</td>\n",
              "      <td>0.000016</td>\n",
              "      <td>0.000016</td>\n",
              "      <td>0.000016</td>\n",
              "      <td>0.000016</td>\n",
              "      <td>0.000016</td>\n",
              "      <td>0.000016</td>\n",
              "      <td>0.000016</td>\n",
              "      <td>1.0</td>\n",
              "    </tr>\n",
              "    <tr>\n",
              "      <th>P</th>\n",
              "      <td>0.000010</td>\n",
              "      <td>0.000010</td>\n",
              "      <td>0.000010</td>\n",
              "      <td>0.000010</td>\n",
              "      <td>0.000010</td>\n",
              "      <td>0.000010</td>\n",
              "      <td>0.000010</td>\n",
              "      <td>0.000010</td>\n",
              "      <td>0.000010</td>\n",
              "      <td>0.000010</td>\n",
              "      <td>...</td>\n",
              "      <td>0.000010</td>\n",
              "      <td>0.000010</td>\n",
              "      <td>0.000010</td>\n",
              "      <td>0.000010</td>\n",
              "      <td>0.000010</td>\n",
              "      <td>0.000010</td>\n",
              "      <td>0.000010</td>\n",
              "      <td>0.000010</td>\n",
              "      <td>0.000010</td>\n",
              "      <td>1.0</td>\n",
              "    </tr>\n",
              "    <tr>\n",
              "      <th>R</th>\n",
              "      <td>0.000010</td>\n",
              "      <td>0.000010</td>\n",
              "      <td>0.000010</td>\n",
              "      <td>0.000010</td>\n",
              "      <td>0.000010</td>\n",
              "      <td>0.000010</td>\n",
              "      <td>0.000010</td>\n",
              "      <td>0.000010</td>\n",
              "      <td>0.000010</td>\n",
              "      <td>0.000010</td>\n",
              "      <td>...</td>\n",
              "      <td>0.000010</td>\n",
              "      <td>0.000010</td>\n",
              "      <td>0.000010</td>\n",
              "      <td>0.000010</td>\n",
              "      <td>0.000010</td>\n",
              "      <td>0.000010</td>\n",
              "      <td>0.000010</td>\n",
              "      <td>0.000010</td>\n",
              "      <td>0.000010</td>\n",
              "      <td>1.0</td>\n",
              "    </tr>\n",
              "    <tr>\n",
              "      <th>V</th>\n",
              "      <td>0.000005</td>\n",
              "      <td>0.000005</td>\n",
              "      <td>0.000005</td>\n",
              "      <td>0.000005</td>\n",
              "      <td>0.000005</td>\n",
              "      <td>0.000005</td>\n",
              "      <td>0.000005</td>\n",
              "      <td>0.000005</td>\n",
              "      <td>0.000005</td>\n",
              "      <td>0.000005</td>\n",
              "      <td>...</td>\n",
              "      <td>0.000005</td>\n",
              "      <td>0.000005</td>\n",
              "      <td>0.000005</td>\n",
              "      <td>0.000005</td>\n",
              "      <td>0.000005</td>\n",
              "      <td>0.000005</td>\n",
              "      <td>0.000005</td>\n",
              "      <td>0.000005</td>\n",
              "      <td>0.000005</td>\n",
              "      <td>1.0</td>\n",
              "    </tr>\n",
              "    <tr>\n",
              "      <th>X</th>\n",
              "      <td>0.000017</td>\n",
              "      <td>0.000017</td>\n",
              "      <td>0.000017</td>\n",
              "      <td>0.000017</td>\n",
              "      <td>0.000017</td>\n",
              "      <td>0.000017</td>\n",
              "      <td>0.000017</td>\n",
              "      <td>0.000017</td>\n",
              "      <td>0.000017</td>\n",
              "      <td>0.000017</td>\n",
              "      <td>...</td>\n",
              "      <td>0.000017</td>\n",
              "      <td>0.000017</td>\n",
              "      <td>0.000017</td>\n",
              "      <td>0.000017</td>\n",
              "      <td>0.000017</td>\n",
              "      <td>0.000017</td>\n",
              "      <td>0.000017</td>\n",
              "      <td>0.000017</td>\n",
              "      <td>0.000017</td>\n",
              "      <td>1.0</td>\n",
              "    </tr>\n",
              "    <tr>\n",
              "      <th>Z</th>\n",
              "      <td>0.000018</td>\n",
              "      <td>0.000018</td>\n",
              "      <td>0.000018</td>\n",
              "      <td>0.000018</td>\n",
              "      <td>0.000018</td>\n",
              "      <td>0.000018</td>\n",
              "      <td>0.000018</td>\n",
              "      <td>0.000018</td>\n",
              "      <td>0.000018</td>\n",
              "      <td>0.000018</td>\n",
              "      <td>...</td>\n",
              "      <td>0.000018</td>\n",
              "      <td>0.000018</td>\n",
              "      <td>0.000018</td>\n",
              "      <td>0.000018</td>\n",
              "      <td>0.000018</td>\n",
              "      <td>0.000018</td>\n",
              "      <td>0.000018</td>\n",
              "      <td>0.000018</td>\n",
              "      <td>0.000018</td>\n",
              "      <td>1.0</td>\n",
              "    </tr>\n",
              "  </tbody>\n",
              "</table>\n",
              "<p>16 rows × 55070 columns</p>\n",
              "</div>\n",
              "      <button class=\"colab-df-convert\" onclick=\"convertToInteractive('df-0b8622fe-78a2-4c7c-91ec-7472048fda3c')\"\n",
              "              title=\"Convert this dataframe to an interactive table.\"\n",
              "              style=\"display:none;\">\n",
              "        \n",
              "  <svg xmlns=\"http://www.w3.org/2000/svg\" height=\"24px\"viewBox=\"0 0 24 24\"\n",
              "       width=\"24px\">\n",
              "    <path d=\"M0 0h24v24H0V0z\" fill=\"none\"/>\n",
              "    <path d=\"M18.56 5.44l.94 2.06.94-2.06 2.06-.94-2.06-.94-.94-2.06-.94 2.06-2.06.94zm-11 1L8.5 8.5l.94-2.06 2.06-.94-2.06-.94L8.5 2.5l-.94 2.06-2.06.94zm10 10l.94 2.06.94-2.06 2.06-.94-2.06-.94-.94-2.06-.94 2.06-2.06.94z\"/><path d=\"M17.41 7.96l-1.37-1.37c-.4-.4-.92-.59-1.43-.59-.52 0-1.04.2-1.43.59L10.3 9.45l-7.72 7.72c-.78.78-.78 2.05 0 2.83L4 21.41c.39.39.9.59 1.41.59.51 0 1.02-.2 1.41-.59l7.78-7.78 2.81-2.81c.8-.78.8-2.07 0-2.86zM5.41 20L4 18.59l7.72-7.72 1.47 1.35L5.41 20z\"/>\n",
              "  </svg>\n",
              "      </button>\n",
              "      \n",
              "  <style>\n",
              "    .colab-df-container {\n",
              "      display:flex;\n",
              "      flex-wrap:wrap;\n",
              "      gap: 12px;\n",
              "    }\n",
              "\n",
              "    .colab-df-convert {\n",
              "      background-color: #E8F0FE;\n",
              "      border: none;\n",
              "      border-radius: 50%;\n",
              "      cursor: pointer;\n",
              "      display: none;\n",
              "      fill: #1967D2;\n",
              "      height: 32px;\n",
              "      padding: 0 0 0 0;\n",
              "      width: 32px;\n",
              "    }\n",
              "\n",
              "    .colab-df-convert:hover {\n",
              "      background-color: #E2EBFA;\n",
              "      box-shadow: 0px 1px 2px rgba(60, 64, 67, 0.3), 0px 1px 3px 1px rgba(60, 64, 67, 0.15);\n",
              "      fill: #174EA6;\n",
              "    }\n",
              "\n",
              "    [theme=dark] .colab-df-convert {\n",
              "      background-color: #3B4455;\n",
              "      fill: #D2E3FC;\n",
              "    }\n",
              "\n",
              "    [theme=dark] .colab-df-convert:hover {\n",
              "      background-color: #434B5C;\n",
              "      box-shadow: 0px 1px 3px 1px rgba(0, 0, 0, 0.15);\n",
              "      filter: drop-shadow(0px 1px 2px rgba(0, 0, 0, 0.3));\n",
              "      fill: #FFFFFF;\n",
              "    }\n",
              "  </style>\n",
              "\n",
              "      <script>\n",
              "        const buttonEl =\n",
              "          document.querySelector('#df-0b8622fe-78a2-4c7c-91ec-7472048fda3c button.colab-df-convert');\n",
              "        buttonEl.style.display =\n",
              "          google.colab.kernel.accessAllowed ? 'block' : 'none';\n",
              "\n",
              "        async function convertToInteractive(key) {\n",
              "          const element = document.querySelector('#df-0b8622fe-78a2-4c7c-91ec-7472048fda3c');\n",
              "          const dataTable =\n",
              "            await google.colab.kernel.invokeFunction('convertToInteractive',\n",
              "                                                     [key], {});\n",
              "          if (!dataTable) return;\n",
              "\n",
              "          const docLinkHtml = 'Like what you see? Visit the ' +\n",
              "            '<a target=\"_blank\" href=https://colab.research.google.com/notebooks/data_table.ipynb>data table notebook</a>'\n",
              "            + ' to learn more about interactive tables.';\n",
              "          element.innerHTML = '';\n",
              "          dataTable['output_type'] = 'display_data';\n",
              "          await google.colab.output.renderOutput(dataTable, element);\n",
              "          const docLink = document.createElement('div');\n",
              "          docLink.innerHTML = docLinkHtml;\n",
              "          element.appendChild(docLink);\n",
              "        }\n",
              "      </script>\n",
              "    </div>\n",
              "  </div>\n",
              "  "
            ]
          },
          "metadata": {},
          "execution_count": 277
        }
      ],
      "source": [
        "laplace = 0.001\n",
        "B = matrix_emisson(data_train_label,  tag, vocabs)\n",
        "B[:,-1] = B[:,-1] + laplace * (len(vocabs))\n",
        "B[:,:-1] = B[:,:-1] + laplace\n",
        "for i in range(0,len(tag)):\n",
        "  B[i,:] = B[i,:] / B[i,-1]\n",
        "\n",
        "df1 = pd.DataFrame(\n",
        "    B[:,:], \n",
        "    index = tag, \n",
        "    columns = vocabs \n",
        "    )\n",
        "df1"
      ]
    },
    {
      "cell_type": "markdown",
      "metadata": {
        "id": "UCjWQKHE4dpm"
      },
      "source": [
        "Phân tích rõ hơn idea của ma trận B\n",
        "\n",
        "Ví dụ ma trận B: \n",
        "\n",
        " - Từ có Zone có xác suất là 0.000009 mang nhãn A "
      ]
    },
    {
      "cell_type": "markdown",
      "metadata": {
        "id": "ecE84pVFbPJo"
      },
      "source": [
        "# **Thuật toán Viterbi**"
      ]
    },
    {
      "cell_type": "markdown",
      "metadata": {
        "id": "_Sfb9v-5afA3"
      },
      "source": [
        "Do không dự đoán nhãn --s-- và ma trận A, B không tính xác suất của --s-- nên ta sẽ xóa các cột --s-- trong ma trận A, B. Ở ma trận B ta cũng sẽ xóa luôn cột cuối cùng ( cột tổng )"
      ]
    },
    {
      "cell_type": "code",
      "execution_count": null,
      "metadata": {
        "id": "9y9qmojAZ11X"
      },
      "outputs": [],
      "source": [
        "A = A[:,1:]\n",
        "B = B[1:,:-1]"
      ]
    },
    {
      "cell_type": "markdown",
      "metadata": {
        "id": "ORloXruUdO2S"
      },
      "source": [
        "**Bước Initialization**: Tạo 2 ma trận:\n",
        "- Ma trận probs: để tìm ma trận xác suất các từ trong câu sẽ mang nhãn gì. Mỗi cột sẽ là các từ trong câu, còn mỗi hàng sẽ là postag tương ứng. Ví dụ từ 'từ' sẽ là cột đầu tiên ở ma trận probs và ta sẽ tính 17 xác suất mà từ 'từ' sẽ có \n",
        "\n",
        "- Ma trận paths ( đề cập sau )\n",
        "\n"
      ]
    },
    {
      "cell_type": "markdown",
      "metadata": {
        "id": "Ue17i1758A9U"
      },
      "source": [
        "**Step 1**: khởi tạo ma trận probs với kích thước là tag x tập câu. \n",
        "\n",
        "**Step 2**: với từ đầu tiên trong tập câu, ta sẽ tính xem 17 xác suất postag của từ đó bằng cách lấy xác suất ( A ) của **--s-- chuyển sang postag tương ứng** + xác suất ( B ) của **từ đó mang postag tương ứng**\n",
        "\n",
        "Để tránh số quá nhỏ trong việc nhân 2 xác suất nên ta sẽ sử dụng log + log\n",
        "\n",
        "\n",
        "\n"
      ]
    },
    {
      "cell_type": "code",
      "execution_count": null,
      "metadata": {
        "id": "DoWps-uYc9gQ"
      },
      "outputs": [],
      "source": [
        "def initialize(A, B,train_words,tag,vocabs):\n",
        "  probs = np.zeros((len(tag), len(train_words)))\n",
        "  paths = np.zeros((len(tag), len(train_words)),dtype=int)\n",
        "  index_s = 0      #tag.index(\"<s>\") # -> bắt đầu một câu <s>\n",
        "  for i in range(len(tag)):\n",
        "    if train_words[0]+'\\n' not in vocabs: \n",
        "      if train_words[0][0].lower() +train_words[0][1:] + '\\n' in vocabs:\n",
        "         train_words[0] =  train_words[0][0].lower() + train_words[0][1:]\n",
        "         index = vocabs.index(train_words[0]+'\\n')\n",
        "      else:\n",
        "        index = vocabs.index('--unk--\\n') # Nếu từ đó không có thì gán là từ unk\n",
        "    else: index = vocabs.index(train_words[0]+'\\n')\n",
        "    #do A ta xóa 1 cột, B xóa 1 hàng nên t phải trừ 1 tương ứng\n",
        "\n",
        "    probs[i,0] = math.log(A[index_s,i-1]) + math.log(B[i-1,index]) #sử dụng log để hạn chế việc số quá nhỏ\n",
        "\n",
        "    \n",
        "  return probs, paths\n"
      ]
    },
    {
      "cell_type": "code",
      "execution_count": null,
      "metadata": {
        "colab": {
          "base_uri": "https://localhost:8080/"
        },
        "id": "DI7gRG0RlCdP",
        "outputId": "bf6ce36e-3f44-4d3f-dbb7-9062394418f6"
      },
      "outputs": [
        {
          "output_type": "stream",
          "name": "stdout",
          "text": [
            "probs_train[0, 0]: -17.857000080593608\n",
            "probs_train[1, 0]: -18.540559803637052\n"
          ]
        }
      ],
      "source": [
        "probs_train, paths_train = initialize(A, B, data_train , tag, vocabs)\n",
        "print('probs_train[0, 0]:', probs_train[0, 0])\n",
        "print('probs_train[1, 0]:', probs_train[1, 0])  "
      ]
    },
    {
      "cell_type": "code",
      "execution_count": null,
      "metadata": {
        "colab": {
          "base_uri": "https://localhost:8080/"
        },
        "id": "WVDRjytO5Ryq",
        "outputId": "3ddf5088-43e6-4adb-8dd8-36331ccf6552"
      },
      "outputs": [
        {
          "output_type": "stream",
          "name": "stdout",
          "text": [
            "probs_test[0, 0]: -17.857000080593608\n",
            "probs_test[1, 0]: -18.540559803637052\n"
          ]
        }
      ],
      "source": [
        "probs_test, paths_test = initialize(A, B, data_test, tag, vocabs )\n",
        "print('probs_test[0, 0]:', probs_test[0, 0])\n",
        "print('probs_test[1, 0]:', probs_test[1, 0]) \n"
      ]
    },
    {
      "cell_type": "markdown",
      "metadata": {
        "id": "XDEU5W_8lSEu"
      },
      "source": [
        "**Bước Forward**\n",
        "\n",
        "Tiếp tục hoàn thiện ma trận probs\n",
        "\n",
        "Ở ma trận probs, xác suất từ tiếp theo trong câu sẽ bằng max (xác suất tag của từ trước trong ma trận probs + xác suất chuyển tag của từ hiện tại ) + xác suất B"
      ]
    },
    {
      "cell_type": "code",
      "execution_count": null,
      "metadata": {
        "id": "bXCl6B9YlO1S"
      },
      "outputs": [],
      "source": [
        "def forward(A, B,vocabs,probs, paths,train_words,tag):\n",
        "    \n",
        "    for i in range(1, len(train_words)): #train các từ tiếp theo\n",
        "        if train_words[i]+'\\n' not in vocabs:\n",
        "          if train_words[0][0].lower() +train_words[0][1:] + '\\n' in vocabs:\n",
        "            train_words[0] =  train_words[0][0].lower() + train_words[0][1:]\n",
        "            index = vocabs.index(train_words[0]+'\\n')\n",
        "          else:\n",
        "            index = vocabs.index('--unk--\\n')\n",
        "        else:  index = vocabs.index(train_words[i]+'\\n')\n",
        "\n",
        "        for j in range(len(tag)): #fill các xác suất của từ tương ứng trong ma trận probs\n",
        "            prob = []\n",
        "            for k in range(len(tag)): #xét xác suất của từ trước để tìm xác suất lớn nhất của từ trước + từ hiện tại\n",
        "                prob.append(probs[k,i-1]+ math.log(A[k,j-1]))  \n",
        "            probs[j,i] = max(prob)  + math.log(B[j-1,index])\n",
        "            paths[j,i] = prob.index(max(prob))\n",
        "       \n",
        "\n",
        "    return probs, paths"
      ]
    },
    {
      "cell_type": "code",
      "execution_count": null,
      "metadata": {
        "colab": {
          "base_uri": "https://localhost:8080/"
        },
        "id": "5aQQ-QJNmpSn",
        "outputId": "63f30ffa-7a48-421d-a3e0-4fa4893abf72"
      },
      "outputs": [
        {
          "output_type": "stream",
          "name": "stdout",
          "text": [
            "probs_train[0, 1]: -24.783552811187214\n",
            "paths_train[0, 1]: 5\n"
          ]
        }
      ],
      "source": [
        "probs_train, paths_train = forward(A, B, vocabs, probs_train, paths_train, data_train, tag)\n",
        "print('probs_train[0, 1]:', probs_train[0, 1]) \n",
        "print('paths_train[0, 1]:', paths_train[0, 1])"
      ]
    },
    {
      "cell_type": "code",
      "execution_count": null,
      "metadata": {
        "colab": {
          "base_uri": "https://localhost:8080/"
        },
        "id": "PegBMwOD5cHb",
        "outputId": "25e4ab1b-af31-4d1a-d4e8-338410a1fdaa"
      },
      "outputs": [
        {
          "output_type": "stream",
          "name": "stdout",
          "text": [
            "probs_test[0, 1]: -29.572086889779197\n",
            "paths_test[0, 1]: 9\n"
          ]
        }
      ],
      "source": [
        "probs_test, paths_test = forward(A, B, vocabs, probs_test, paths_test,data_test,tag)\n",
        "print('probs_test[0, 1]:', probs_test[0, 1]) \n",
        "print('paths_test[0, 1]:', paths_test[0, 1])"
      ]
    },
    {
      "cell_type": "markdown",
      "metadata": {
        "id": "V2DtO8sQ3Bzn"
      },
      "source": [
        "**Bước Backward**\n",
        "\n",
        "Base theo quy hoạch động, từ ma trận paths và probs truy xuất ngược về."
      ]
    },
    {
      "cell_type": "markdown",
      "metadata": {
        "id": "3Xmz7G6HrD3L"
      },
      "source": [
        "\n",
        "\n",
        "Step 1: Trong ma trận probs, ở từ cuối cùng trong data đưa vào, check hết các tag xem tag nào có xác suất lớn nhất, lấy tag đó.\n",
        "\n",
        "Step 2: Bắt đầu xét tiếp các từ còn lại, dựa vào ma trận paths đã save đường đi để truy xuất tag predict"
      ]
    },
    {
      "cell_type": "code",
      "execution_count": null,
      "metadata": {
        "id": "vPNcjNh02-JV"
      },
      "outputs": [],
      "source": [
        "def backward(probs, paths, data, tag):\n",
        "    pred = np.empty(len(data),dtype=object) #ma trận dự đoán\n",
        "\n",
        "    prob_last_word = probs[:,-1].max()\n",
        "    index_tag= probs[:,-1].argmax()\n",
        "\n",
        "    pred[-1] = tag[index_tag]\n",
        "    \n",
        "    for i in range(len(data)-1, 0, -1): #đi ngược lại từ từ cuối cùng đến từ đầu câu ( xét ma trận path)\n",
        "        pred[i - 1] = tag[ paths[   tag.index(pred[i]), i   ]]\n",
        "     \n",
        "    return pred"
      ]
    },
    {
      "cell_type": "code",
      "execution_count": null,
      "metadata": {
        "colab": {
          "base_uri": "https://localhost:8080/"
        },
        "id": "YhFr6uKC3v6P",
        "outputId": "8b3e2372-4974-41d4-b34c-4d24129c9deb"
      },
      "outputs": [
        {
          "output_type": "stream",
          "name": "stdout",
          "text": [
            "Dự đoán cho test_pred[0:7]\n",
            "['con', 'cá_rô', 'rục_rịch', 'trong', 'rổ', 'réo', 'róc_rách']\n",
            "['Nc' 'N' 'V' 'E' 'D' 'N' 'A']\n",
            "['Con Nc', 'cá_rô N', 'rục_rịch V', 'trong E', 'rổ N', 'réo V', 'róc_rách A']\n"
          ]
        }
      ],
      "source": [
        "test_pred = backward(probs_test, paths_test, data_test, tag)\n",
        "m = len(test_pred)\n",
        "\n",
        "print('Dự đoán cho test_pred[0:7]')\n",
        "print(data_test[0:7])\n",
        "print(test_pred[0:7])\n",
        "print(data_test_label[0:7])\n"
      ]
    },
    {
      "cell_type": "markdown",
      "metadata": {
        "id": "V66TJGEzdPoq"
      },
      "source": [
        "# **Đánh giá model**"
      ]
    },
    {
      "cell_type": "code",
      "execution_count": null,
      "metadata": {
        "id": "XVh2Xk3pdjRJ"
      },
      "outputs": [],
      "source": [
        "y_true = [] #lấy nhãn\n",
        "for i in data_test_label:\n",
        "  if i =='\\n': continue\n",
        "  y_true.append(i.split()[-1])\n"
      ]
    },
    {
      "cell_type": "markdown",
      "metadata": {
        "id": "-0smxnJErUcs"
      },
      "source": [
        "**Sử dụng HMM**"
      ]
    },
    {
      "cell_type": "code",
      "execution_count": null,
      "metadata": {
        "colab": {
          "base_uri": "https://localhost:8080/"
        },
        "id": "yaiQYJc6eefr",
        "outputId": "043d4011-b19b-4413-ce27-6f36a25bcd5b"
      },
      "outputs": [
        {
          "output_type": "stream",
          "name": "stdout",
          "text": [
            "              precision    recall  f1-score   support\n",
            "\n",
            "           A       0.47      0.28      0.35        25\n",
            "           C       0.60      1.00      0.75        12\n",
            "          CH       0.88      1.00      0.93        42\n",
            "           D       0.45      0.71      0.56         7\n",
            "           E       0.69      0.87      0.77        23\n",
            "           I       0.67      0.80      0.73         5\n",
            "           M       0.80      0.80      0.80         5\n",
            "           N       0.75      0.51      0.61        82\n",
            "          Nc       0.17      0.10      0.12        10\n",
            "           P       0.60      0.62      0.61        24\n",
            "           R       0.48      0.67      0.56        33\n",
            "           V       0.63      0.68      0.65        62\n",
            "           X       0.00      0.00      0.00         3\n",
            "           Z       0.00      0.00      0.00         1\n",
            "\n",
            "    accuracy                           0.65       334\n",
            "   macro avg       0.51      0.57      0.53       334\n",
            "weighted avg       0.64      0.65      0.63       334\n",
            "\n"
          ]
        }
      ],
      "source": [
        "from sklearn.metrics import classification_report\n",
        "\n",
        "print(classification_report(y_true, test_pred))"
      ]
    },
    {
      "cell_type": "markdown",
      "metadata": {
        "id": "aDviJcQorXhm"
      },
      "source": [
        "**Sử dụng VnCoreNLP**"
      ]
    },
    {
      "cell_type": "code",
      "execution_count": null,
      "metadata": {
        "id": "vrPZ4S6mrc1e"
      },
      "outputs": [],
      "source": [
        "pred_vn = []\n",
        "for i in data_test:\n",
        "  i = i.replace(\"_\",\" \")\n",
        "  pred_vn.append(vncorenlp.pos_tag(i)[0][0][-1])"
      ]
    },
    {
      "cell_type": "code",
      "execution_count": null,
      "metadata": {
        "colab": {
          "base_uri": "https://localhost:8080/"
        },
        "id": "AXiVCxKUuncr",
        "outputId": "a3fecd6c-bb4a-492e-a681-ec98a54602dd"
      },
      "outputs": [
        {
          "output_type": "stream",
          "name": "stdout",
          "text": [
            "              precision    recall  f1-score   support\n",
            "\n",
            "           A       0.83      0.76      0.79        25\n",
            "           C       0.90      0.75      0.82        12\n",
            "          CH       1.00      1.00      1.00        42\n",
            "          Cc       0.00      0.00      0.00         0\n",
            "           D       0.00      0.00      0.00         7\n",
            "           E       0.96      0.96      0.96        23\n",
            "           I       0.00      0.00      0.00         5\n",
            "           L       0.00      0.00      0.00         0\n",
            "           M       1.00      1.00      1.00         5\n",
            "           N       0.84      0.89      0.86        82\n",
            "          Nb       0.00      0.00      0.00         0\n",
            "          Nc       0.00      0.00      0.00        10\n",
            "           P       0.89      1.00      0.94        24\n",
            "           R       1.00      0.73      0.84        33\n",
            "           T       0.00      0.00      0.00         0\n",
            "           V       0.76      0.94      0.84        62\n",
            "           X       1.00      1.00      1.00         3\n",
            "           Z       0.00      0.00      0.00         1\n",
            "\n",
            "    accuracy                           0.84       334\n",
            "   macro avg       0.51      0.50      0.50       334\n",
            "weighted avg       0.82      0.84      0.82       334\n",
            "\n"
          ]
        }
      ],
      "source": [
        "print(classification_report(y_true, pred_vn))"
      ]
    }
  ],
  "metadata": {
    "colab": {
      "collapsed_sections": [
        "IflW9xvkrG2P",
        "zRP_veV4qkqH",
        "ecE84pVFbPJo"
      ],
      "provenance": []
    },
    "kernelspec": {
      "display_name": "Python 3",
      "name": "python3"
    },
    "language_info": {
      "name": "python"
    }
  },
  "nbformat": 4,
  "nbformat_minor": 0
}